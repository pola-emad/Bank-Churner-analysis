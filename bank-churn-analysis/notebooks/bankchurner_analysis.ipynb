{
 "cells": [
  {
   "cell_type": "markdown",
   "id": "314e16f5",
   "metadata": {},
   "source": [
    "# Data Card\n",
    "\n",
    "CLIENTNUM – Unique identifier for each customer.\n",
    "\n",
    "Attrition_Flag – Customer churn status (Existing Customer or Attrited Customer).\n",
    "\n",
    "Customer_Age – Age of the customer in years.\n",
    "\n",
    "Gender – Gender of the customer (M or F).\n",
    "\n",
    "Dependent_count – Number of dependents the customer has.\n",
    "\n",
    "Education_Level – Customer’s highest education level.\n",
    "\n",
    "Marital_Status – Marital status of the customer.\n",
    "\n",
    "Income_Category – Customer’s annual income bracket.\n",
    "\n",
    "Card_Category – Type of credit card held (Blue, Silver, Gold, Platinum).\n",
    "\n",
    "Months_on_book – Tenure of the customer with the bank (in months).\n",
    "\n",
    "Total_Relationship_Count – Number of products the customer has with the bank.\n",
    "\n",
    "Months_Inactive_12_mon – Number of inactive months in the last 12 months.\n",
    "\n",
    "Contacts_Count_12_mon – Number of contacts made in the last 12 months.\n",
    "\n",
    "Credit_Limit – Credit card limit assigned to the customer.\n",
    "\n",
    "Total_Revolving_Bal – Total revolving balance on the card.\n",
    "\n",
    "Avg_Open_To_Buy – Average available credit to spend (Credit_Limit - Revolving Balance).\n",
    "\n",
    "Total_Amt_Chng_Q4_Q1 – Ratio of transaction amount in Q4 over Q1.\n",
    "\n",
    "Total_Trans_Amt – Total transaction amount in the last 12 months.\n",
    "\n",
    "Total_Trans_Ct – Total number of transactions in the last 12 months.\n",
    "\n",
    "Total_Ct_Chng_Q4_Q1 – Ratio of transaction count in Q4 over Q1.\n",
    "\n",
    "Avg_Utilization_Ratio – Average utilization ratio of the credit card (balance ÷ limit)."
   ]
  },
  {
   "cell_type": "markdown",
   "id": "b0c0b3d8",
   "metadata": {},
   "source": [
    "# data ingestion & first audit"
   ]
  },
  {
   "cell_type": "code",
   "execution_count": 1,
   "id": "36e8c4cd",
   "metadata": {},
   "outputs": [],
   "source": [
    "import pandas as pd\n",
    "import matplotlib.pyplot as plt\n",
    "import seaborn as sns\n",
    "import numpy as np\n",
    "import plotly.express as px\n",
    "from scipy.stats import pointbiserialr\n",
    "from scipy.stats import chi2_contingency"
   ]
  },
  {
   "cell_type": "code",
   "execution_count": null,
   "id": "9d27d60a",
   "metadata": {},
   "outputs": [],
   "source": [
    "df = pd.read_csv('../data/BankChurners.csv')\n",
    "df_backup = df.copy()\n"
   ]
  },
  {
   "cell_type": "code",
   "execution_count": 6,
   "id": "4b9e51e2",
   "metadata": {},
   "outputs": [
    {
     "data": {
      "text/plain": [
       "(10127, 23)"
      ]
     },
     "execution_count": 6,
     "metadata": {},
     "output_type": "execute_result"
    }
   ],
   "source": [
    "df.shape"
   ]
  },
  {
   "cell_type": "code",
   "execution_count": 5,
   "id": "deb5181e",
   "metadata": {},
   "outputs": [
    {
     "data": {
      "text/plain": [
       "Index(['CLIENTNUM', 'Attrition_Flag', 'Customer_Age', 'Gender',\n",
       "       'Dependent_count', 'Education_Level', 'Marital_Status',\n",
       "       'Income_Category', 'Card_Category', 'Months_on_book',\n",
       "       'Total_Relationship_Count', 'Months_Inactive_12_mon',\n",
       "       'Contacts_Count_12_mon', 'Credit_Limit', 'Total_Revolving_Bal',\n",
       "       'Avg_Open_To_Buy', 'Total_Amt_Chng_Q4_Q1', 'Total_Trans_Amt',\n",
       "       'Total_Trans_Ct', 'Total_Ct_Chng_Q4_Q1', 'Avg_Utilization_Ratio'],\n",
       "      dtype='object')"
      ]
     },
     "execution_count": 5,
     "metadata": {},
     "output_type": "execute_result"
    }
   ],
   "source": [
    "df.columns"
   ]
  },
  {
   "cell_type": "code",
   "execution_count": 3,
   "id": "08d3bb57",
   "metadata": {},
   "outputs": [],
   "source": [
    "# drop the last two columns which are not needed for analysis\n",
    "df.drop(['Naive_Bayes_Classifier_Attrition_Flag_Card_Category_Contacts_Count_12_mon_Dependent_count_Education_Level_Months_Inactive_12_mon_1',\n",
    "         'Naive_Bayes_Classifier_Attrition_Flag_Card_Category_Contacts_Count_12_mon_Dependent_count_Education_Level_Months_Inactive_12_mon_2'], \n",
    "         axis=1, inplace=True)"
   ]
  },
  {
   "cell_type": "code",
   "execution_count": 6,
   "id": "5ed630dd",
   "metadata": {},
   "outputs": [
    {
     "data": {
      "application/vnd.microsoft.datawrangler.viewer.v0+json": {
       "columns": [
        {
         "name": "index",
         "rawType": "object",
         "type": "string"
        },
        {
         "name": "Attrition_Flag",
         "rawType": "object",
         "type": "unknown"
        },
        {
         "name": "Gender",
         "rawType": "object",
         "type": "unknown"
        },
        {
         "name": "Education_Level",
         "rawType": "object",
         "type": "unknown"
        },
        {
         "name": "Marital_Status",
         "rawType": "object",
         "type": "unknown"
        },
        {
         "name": "Income_Category",
         "rawType": "object",
         "type": "unknown"
        },
        {
         "name": "Card_Category",
         "rawType": "object",
         "type": "unknown"
        }
       ],
       "ref": "db515af3-5a9d-4a32-91d2-95b60061ef91",
       "rows": [
        [
         "count",
         "10127",
         "10127",
         "10127",
         "10127",
         "10127",
         "10127"
        ],
        [
         "unique",
         "2",
         "2",
         "7",
         "4",
         "6",
         "4"
        ],
        [
         "top",
         "Existing Customer",
         "F",
         "Graduate",
         "Married",
         "Less than $40K",
         "Blue"
        ],
        [
         "freq",
         "8500",
         "5358",
         "3128",
         "4687",
         "3561",
         "9436"
        ]
       ],
       "shape": {
        "columns": 6,
        "rows": 4
       }
      },
      "text/html": [
       "<div>\n",
       "<style scoped>\n",
       "    .dataframe tbody tr th:only-of-type {\n",
       "        vertical-align: middle;\n",
       "    }\n",
       "\n",
       "    .dataframe tbody tr th {\n",
       "        vertical-align: top;\n",
       "    }\n",
       "\n",
       "    .dataframe thead th {\n",
       "        text-align: right;\n",
       "    }\n",
       "</style>\n",
       "<table border=\"1\" class=\"dataframe\">\n",
       "  <thead>\n",
       "    <tr style=\"text-align: right;\">\n",
       "      <th></th>\n",
       "      <th>Attrition_Flag</th>\n",
       "      <th>Gender</th>\n",
       "      <th>Education_Level</th>\n",
       "      <th>Marital_Status</th>\n",
       "      <th>Income_Category</th>\n",
       "      <th>Card_Category</th>\n",
       "    </tr>\n",
       "  </thead>\n",
       "  <tbody>\n",
       "    <tr>\n",
       "      <th>count</th>\n",
       "      <td>10127</td>\n",
       "      <td>10127</td>\n",
       "      <td>10127</td>\n",
       "      <td>10127</td>\n",
       "      <td>10127</td>\n",
       "      <td>10127</td>\n",
       "    </tr>\n",
       "    <tr>\n",
       "      <th>unique</th>\n",
       "      <td>2</td>\n",
       "      <td>2</td>\n",
       "      <td>7</td>\n",
       "      <td>4</td>\n",
       "      <td>6</td>\n",
       "      <td>4</td>\n",
       "    </tr>\n",
       "    <tr>\n",
       "      <th>top</th>\n",
       "      <td>Existing Customer</td>\n",
       "      <td>F</td>\n",
       "      <td>Graduate</td>\n",
       "      <td>Married</td>\n",
       "      <td>Less than $40K</td>\n",
       "      <td>Blue</td>\n",
       "    </tr>\n",
       "    <tr>\n",
       "      <th>freq</th>\n",
       "      <td>8500</td>\n",
       "      <td>5358</td>\n",
       "      <td>3128</td>\n",
       "      <td>4687</td>\n",
       "      <td>3561</td>\n",
       "      <td>9436</td>\n",
       "    </tr>\n",
       "  </tbody>\n",
       "</table>\n",
       "</div>"
      ],
      "text/plain": [
       "           Attrition_Flag Gender Education_Level Marital_Status  \\\n",
       "count               10127  10127           10127          10127   \n",
       "unique                  2      2               7              4   \n",
       "top     Existing Customer      F        Graduate        Married   \n",
       "freq                 8500   5358            3128           4687   \n",
       "\n",
       "       Income_Category Card_Category  \n",
       "count            10127         10127  \n",
       "unique               6             4  \n",
       "top     Less than $40K          Blue  \n",
       "freq              3561          9436  "
      ]
     },
     "execution_count": 6,
     "metadata": {},
     "output_type": "execute_result"
    }
   ],
   "source": [
    "df.describe(include='object')"
   ]
  },
  {
   "cell_type": "code",
   "execution_count": 7,
   "id": "3090bc8e",
   "metadata": {},
   "outputs": [
    {
     "data": {
      "application/vnd.microsoft.datawrangler.viewer.v0+json": {
       "columns": [
        {
         "name": "index",
         "rawType": "object",
         "type": "string"
        },
        {
         "name": "CLIENTNUM",
         "rawType": "float64",
         "type": "float"
        },
        {
         "name": "Customer_Age",
         "rawType": "float64",
         "type": "float"
        },
        {
         "name": "Dependent_count",
         "rawType": "float64",
         "type": "float"
        },
        {
         "name": "Months_on_book",
         "rawType": "float64",
         "type": "float"
        },
        {
         "name": "Total_Relationship_Count",
         "rawType": "float64",
         "type": "float"
        },
        {
         "name": "Months_Inactive_12_mon",
         "rawType": "float64",
         "type": "float"
        },
        {
         "name": "Contacts_Count_12_mon",
         "rawType": "float64",
         "type": "float"
        },
        {
         "name": "Credit_Limit",
         "rawType": "float64",
         "type": "float"
        },
        {
         "name": "Total_Revolving_Bal",
         "rawType": "float64",
         "type": "float"
        },
        {
         "name": "Avg_Open_To_Buy",
         "rawType": "float64",
         "type": "float"
        },
        {
         "name": "Total_Amt_Chng_Q4_Q1",
         "rawType": "float64",
         "type": "float"
        },
        {
         "name": "Total_Trans_Amt",
         "rawType": "float64",
         "type": "float"
        },
        {
         "name": "Total_Trans_Ct",
         "rawType": "float64",
         "type": "float"
        },
        {
         "name": "Total_Ct_Chng_Q4_Q1",
         "rawType": "float64",
         "type": "float"
        },
        {
         "name": "Avg_Utilization_Ratio",
         "rawType": "float64",
         "type": "float"
        }
       ],
       "ref": "1f8c9770-15e1-41b9-8d26-7453abd2ee5c",
       "rows": [
        [
         "count",
         "10127.0",
         "10127.0",
         "10127.0",
         "10127.0",
         "10127.0",
         "10127.0",
         "10127.0",
         "10127.0",
         "10127.0",
         "10127.0",
         "10127.0",
         "10127.0",
         "10127.0",
         "10127.0",
         "10127.0"
        ],
        [
         "mean",
         "739177606.3336625",
         "46.32596030413745",
         "2.3462032191172115",
         "35.928409203120374",
         "3.8125802310654686",
         "2.3411671768539546",
         "2.4553174681544387",
         "8631.953698034955",
         "1162.8140614199665",
         "7469.139636614989",
         "0.7599406536980349",
         "4404.086303939963",
         "64.85869457884863",
         "0.7122223758269972",
         "0.2748935518909845"
        ],
        [
         "std",
         "36903783.45023111",
         "8.016814032549084",
         "1.2989083489037916",
         "7.986416330871776",
         "1.5544078653388382",
         "1.0106223994182562",
         "1.1062251426358938",
         "9088.776650223113",
         "814.9873352357697",
         "9090.685323679128",
         "0.21920676923070248",
         "3397.129253557085",
         "23.472570449233046",
         "0.23808609133294173",
         "0.2756914692523933"
        ],
        [
         "min",
         "708082083.0",
         "26.0",
         "0.0",
         "13.0",
         "1.0",
         "0.0",
         "0.0",
         "1438.3",
         "0.0",
         "3.0",
         "0.0",
         "510.0",
         "10.0",
         "0.0",
         "0.0"
        ],
        [
         "25%",
         "713036770.5",
         "41.0",
         "1.0",
         "31.0",
         "3.0",
         "2.0",
         "2.0",
         "2555.0",
         "359.0",
         "1324.5",
         "0.631",
         "2155.5",
         "45.0",
         "0.582",
         "0.023"
        ],
        [
         "50%",
         "717926358.0",
         "46.0",
         "2.0",
         "36.0",
         "4.0",
         "2.0",
         "2.0",
         "4549.0",
         "1276.0",
         "3474.0",
         "0.736",
         "3899.0",
         "67.0",
         "0.702",
         "0.176"
        ],
        [
         "75%",
         "773143533.0",
         "52.0",
         "3.0",
         "40.0",
         "5.0",
         "3.0",
         "3.0",
         "11067.5",
         "1784.0",
         "9859.0",
         "0.859",
         "4741.0",
         "81.0",
         "0.818",
         "0.503"
        ],
        [
         "max",
         "828343083.0",
         "73.0",
         "5.0",
         "56.0",
         "6.0",
         "6.0",
         "6.0",
         "34516.0",
         "2517.0",
         "34516.0",
         "3.397",
         "18484.0",
         "139.0",
         "3.714",
         "0.999"
        ]
       ],
       "shape": {
        "columns": 15,
        "rows": 8
       }
      },
      "text/html": [
       "<div>\n",
       "<style scoped>\n",
       "    .dataframe tbody tr th:only-of-type {\n",
       "        vertical-align: middle;\n",
       "    }\n",
       "\n",
       "    .dataframe tbody tr th {\n",
       "        vertical-align: top;\n",
       "    }\n",
       "\n",
       "    .dataframe thead th {\n",
       "        text-align: right;\n",
       "    }\n",
       "</style>\n",
       "<table border=\"1\" class=\"dataframe\">\n",
       "  <thead>\n",
       "    <tr style=\"text-align: right;\">\n",
       "      <th></th>\n",
       "      <th>CLIENTNUM</th>\n",
       "      <th>Customer_Age</th>\n",
       "      <th>Dependent_count</th>\n",
       "      <th>Months_on_book</th>\n",
       "      <th>Total_Relationship_Count</th>\n",
       "      <th>Months_Inactive_12_mon</th>\n",
       "      <th>Contacts_Count_12_mon</th>\n",
       "      <th>Credit_Limit</th>\n",
       "      <th>Total_Revolving_Bal</th>\n",
       "      <th>Avg_Open_To_Buy</th>\n",
       "      <th>Total_Amt_Chng_Q4_Q1</th>\n",
       "      <th>Total_Trans_Amt</th>\n",
       "      <th>Total_Trans_Ct</th>\n",
       "      <th>Total_Ct_Chng_Q4_Q1</th>\n",
       "      <th>Avg_Utilization_Ratio</th>\n",
       "    </tr>\n",
       "  </thead>\n",
       "  <tbody>\n",
       "    <tr>\n",
       "      <th>count</th>\n",
       "      <td>1.012700e+04</td>\n",
       "      <td>10127.000000</td>\n",
       "      <td>10127.000000</td>\n",
       "      <td>10127.000000</td>\n",
       "      <td>10127.000000</td>\n",
       "      <td>10127.000000</td>\n",
       "      <td>10127.000000</td>\n",
       "      <td>10127.000000</td>\n",
       "      <td>10127.000000</td>\n",
       "      <td>10127.000000</td>\n",
       "      <td>10127.000000</td>\n",
       "      <td>10127.000000</td>\n",
       "      <td>10127.000000</td>\n",
       "      <td>10127.000000</td>\n",
       "      <td>10127.000000</td>\n",
       "    </tr>\n",
       "    <tr>\n",
       "      <th>mean</th>\n",
       "      <td>7.391776e+08</td>\n",
       "      <td>46.325960</td>\n",
       "      <td>2.346203</td>\n",
       "      <td>35.928409</td>\n",
       "      <td>3.812580</td>\n",
       "      <td>2.341167</td>\n",
       "      <td>2.455317</td>\n",
       "      <td>8631.953698</td>\n",
       "      <td>1162.814061</td>\n",
       "      <td>7469.139637</td>\n",
       "      <td>0.759941</td>\n",
       "      <td>4404.086304</td>\n",
       "      <td>64.858695</td>\n",
       "      <td>0.712222</td>\n",
       "      <td>0.274894</td>\n",
       "    </tr>\n",
       "    <tr>\n",
       "      <th>std</th>\n",
       "      <td>3.690378e+07</td>\n",
       "      <td>8.016814</td>\n",
       "      <td>1.298908</td>\n",
       "      <td>7.986416</td>\n",
       "      <td>1.554408</td>\n",
       "      <td>1.010622</td>\n",
       "      <td>1.106225</td>\n",
       "      <td>9088.776650</td>\n",
       "      <td>814.987335</td>\n",
       "      <td>9090.685324</td>\n",
       "      <td>0.219207</td>\n",
       "      <td>3397.129254</td>\n",
       "      <td>23.472570</td>\n",
       "      <td>0.238086</td>\n",
       "      <td>0.275691</td>\n",
       "    </tr>\n",
       "    <tr>\n",
       "      <th>min</th>\n",
       "      <td>7.080821e+08</td>\n",
       "      <td>26.000000</td>\n",
       "      <td>0.000000</td>\n",
       "      <td>13.000000</td>\n",
       "      <td>1.000000</td>\n",
       "      <td>0.000000</td>\n",
       "      <td>0.000000</td>\n",
       "      <td>1438.300000</td>\n",
       "      <td>0.000000</td>\n",
       "      <td>3.000000</td>\n",
       "      <td>0.000000</td>\n",
       "      <td>510.000000</td>\n",
       "      <td>10.000000</td>\n",
       "      <td>0.000000</td>\n",
       "      <td>0.000000</td>\n",
       "    </tr>\n",
       "    <tr>\n",
       "      <th>25%</th>\n",
       "      <td>7.130368e+08</td>\n",
       "      <td>41.000000</td>\n",
       "      <td>1.000000</td>\n",
       "      <td>31.000000</td>\n",
       "      <td>3.000000</td>\n",
       "      <td>2.000000</td>\n",
       "      <td>2.000000</td>\n",
       "      <td>2555.000000</td>\n",
       "      <td>359.000000</td>\n",
       "      <td>1324.500000</td>\n",
       "      <td>0.631000</td>\n",
       "      <td>2155.500000</td>\n",
       "      <td>45.000000</td>\n",
       "      <td>0.582000</td>\n",
       "      <td>0.023000</td>\n",
       "    </tr>\n",
       "    <tr>\n",
       "      <th>50%</th>\n",
       "      <td>7.179264e+08</td>\n",
       "      <td>46.000000</td>\n",
       "      <td>2.000000</td>\n",
       "      <td>36.000000</td>\n",
       "      <td>4.000000</td>\n",
       "      <td>2.000000</td>\n",
       "      <td>2.000000</td>\n",
       "      <td>4549.000000</td>\n",
       "      <td>1276.000000</td>\n",
       "      <td>3474.000000</td>\n",
       "      <td>0.736000</td>\n",
       "      <td>3899.000000</td>\n",
       "      <td>67.000000</td>\n",
       "      <td>0.702000</td>\n",
       "      <td>0.176000</td>\n",
       "    </tr>\n",
       "    <tr>\n",
       "      <th>75%</th>\n",
       "      <td>7.731435e+08</td>\n",
       "      <td>52.000000</td>\n",
       "      <td>3.000000</td>\n",
       "      <td>40.000000</td>\n",
       "      <td>5.000000</td>\n",
       "      <td>3.000000</td>\n",
       "      <td>3.000000</td>\n",
       "      <td>11067.500000</td>\n",
       "      <td>1784.000000</td>\n",
       "      <td>9859.000000</td>\n",
       "      <td>0.859000</td>\n",
       "      <td>4741.000000</td>\n",
       "      <td>81.000000</td>\n",
       "      <td>0.818000</td>\n",
       "      <td>0.503000</td>\n",
       "    </tr>\n",
       "    <tr>\n",
       "      <th>max</th>\n",
       "      <td>8.283431e+08</td>\n",
       "      <td>73.000000</td>\n",
       "      <td>5.000000</td>\n",
       "      <td>56.000000</td>\n",
       "      <td>6.000000</td>\n",
       "      <td>6.000000</td>\n",
       "      <td>6.000000</td>\n",
       "      <td>34516.000000</td>\n",
       "      <td>2517.000000</td>\n",
       "      <td>34516.000000</td>\n",
       "      <td>3.397000</td>\n",
       "      <td>18484.000000</td>\n",
       "      <td>139.000000</td>\n",
       "      <td>3.714000</td>\n",
       "      <td>0.999000</td>\n",
       "    </tr>\n",
       "  </tbody>\n",
       "</table>\n",
       "</div>"
      ],
      "text/plain": [
       "          CLIENTNUM  Customer_Age  Dependent_count  Months_on_book  \\\n",
       "count  1.012700e+04  10127.000000     10127.000000    10127.000000   \n",
       "mean   7.391776e+08     46.325960         2.346203       35.928409   \n",
       "std    3.690378e+07      8.016814         1.298908        7.986416   \n",
       "min    7.080821e+08     26.000000         0.000000       13.000000   \n",
       "25%    7.130368e+08     41.000000         1.000000       31.000000   \n",
       "50%    7.179264e+08     46.000000         2.000000       36.000000   \n",
       "75%    7.731435e+08     52.000000         3.000000       40.000000   \n",
       "max    8.283431e+08     73.000000         5.000000       56.000000   \n",
       "\n",
       "       Total_Relationship_Count  Months_Inactive_12_mon  \\\n",
       "count              10127.000000            10127.000000   \n",
       "mean                   3.812580                2.341167   \n",
       "std                    1.554408                1.010622   \n",
       "min                    1.000000                0.000000   \n",
       "25%                    3.000000                2.000000   \n",
       "50%                    4.000000                2.000000   \n",
       "75%                    5.000000                3.000000   \n",
       "max                    6.000000                6.000000   \n",
       "\n",
       "       Contacts_Count_12_mon  Credit_Limit  Total_Revolving_Bal  \\\n",
       "count           10127.000000  10127.000000         10127.000000   \n",
       "mean                2.455317   8631.953698          1162.814061   \n",
       "std                 1.106225   9088.776650           814.987335   \n",
       "min                 0.000000   1438.300000             0.000000   \n",
       "25%                 2.000000   2555.000000           359.000000   \n",
       "50%                 2.000000   4549.000000          1276.000000   \n",
       "75%                 3.000000  11067.500000          1784.000000   \n",
       "max                 6.000000  34516.000000          2517.000000   \n",
       "\n",
       "       Avg_Open_To_Buy  Total_Amt_Chng_Q4_Q1  Total_Trans_Amt  Total_Trans_Ct  \\\n",
       "count     10127.000000          10127.000000     10127.000000    10127.000000   \n",
       "mean       7469.139637              0.759941      4404.086304       64.858695   \n",
       "std        9090.685324              0.219207      3397.129254       23.472570   \n",
       "min           3.000000              0.000000       510.000000       10.000000   \n",
       "25%        1324.500000              0.631000      2155.500000       45.000000   \n",
       "50%        3474.000000              0.736000      3899.000000       67.000000   \n",
       "75%        9859.000000              0.859000      4741.000000       81.000000   \n",
       "max       34516.000000              3.397000     18484.000000      139.000000   \n",
       "\n",
       "       Total_Ct_Chng_Q4_Q1  Avg_Utilization_Ratio  \n",
       "count         10127.000000           10127.000000  \n",
       "mean              0.712222               0.274894  \n",
       "std               0.238086               0.275691  \n",
       "min               0.000000               0.000000  \n",
       "25%               0.582000               0.023000  \n",
       "50%               0.702000               0.176000  \n",
       "75%               0.818000               0.503000  \n",
       "max               3.714000               0.999000  "
      ]
     },
     "execution_count": 7,
     "metadata": {},
     "output_type": "execute_result"
    }
   ],
   "source": [
    "df.describe()"
   ]
  },
  {
   "cell_type": "code",
   "execution_count": 9,
   "id": "3f4866c9",
   "metadata": {},
   "outputs": [
    {
     "data": {
      "application/vnd.microsoft.datawrangler.viewer.v0+json": {
       "columns": [
        {
         "name": "Dependent_count",
         "rawType": "int64",
         "type": "integer"
        },
        {
         "name": "count",
         "rawType": "int64",
         "type": "integer"
        }
       ],
       "ref": "a44a0a1b-47e7-408b-902d-d1998284f84e",
       "rows": [
        [
         "3",
         "2732"
        ],
        [
         "2",
         "2655"
        ],
        [
         "1",
         "1838"
        ],
        [
         "4",
         "1574"
        ],
        [
         "0",
         "904"
        ],
        [
         "5",
         "424"
        ]
       ],
       "shape": {
        "columns": 1,
        "rows": 6
       }
      },
      "text/plain": [
       "Dependent_count\n",
       "3    2732\n",
       "2    2655\n",
       "1    1838\n",
       "4    1574\n",
       "0     904\n",
       "5     424\n",
       "Name: count, dtype: int64"
      ]
     },
     "execution_count": 9,
     "metadata": {},
     "output_type": "execute_result"
    }
   ],
   "source": [
    "df['Dependent_count'].value_counts()"
   ]
  },
  {
   "cell_type": "markdown",
   "id": "9a55ded9",
   "metadata": {
    "vscode": {
     "languageId": "markdown"
    }
   },
   "source": [
    "\n",
    "#### Numerical Features\n",
    "- **Customer_Age**: 75%, ranging from 26 to 52.\n",
    "- **Dependent_count**: Most customers have 2-3 dependents (min: 0, max: 5).\n",
    "- **Credit_Limit**: Mean credit limit is ~$8,700 which is almost twice the median (skewness), with a wide range ($1,438–$34,900).\n",
    "- **Total_Revolving_Bal**: Majority have balances below $2,500, but some reach up to $2,517.\n",
    "- **Avg_Open_To_Buy**: Average available credit is ~$7,500; some have no available credit.\n",
    "- **Total_Trans_Amt & Total_Trans_Ct**: High variability in transaction amounts and counts, indicating diverse spending patterns.\n",
    "- **Avg_Utilization_Ratio**: Low average utilization (~0.27), suggesting most customers use a small portion of their credit.\n",
    "\n",
    "#### Categorical Features\n",
    "- **Attrition_Flag**: Most customers are existing; attrited customers form a minority.\n",
    "- **Gender**: Fairly balanced distribution between male and female.\n",
    "- **Education_Level**: Diverse education backgrounds; 'Graduate' and 'High School' are common.\n",
    "- **Marital_Status**: Majority are married, followed by single and unknown status.\n",
    "- **Income_Category**: Most customers fall into '$40K - $60K' and 'Less than $40K' brackets.\n",
    "- **Card_Category**: 'Blue' card is predominant; other categories (Silver, Gold, Platinum) are less common."
   ]
  },
  {
   "cell_type": "code",
   "execution_count": 8,
   "id": "d59bf715",
   "metadata": {},
   "outputs": [
    {
     "name": "stdout",
     "output_type": "stream",
     "text": [
      "<class 'pandas.core.frame.DataFrame'>\n",
      "RangeIndex: 10127 entries, 0 to 10126\n",
      "Data columns (total 21 columns):\n",
      " #   Column                    Non-Null Count  Dtype  \n",
      "---  ------                    --------------  -----  \n",
      " 0   CLIENTNUM                 10127 non-null  int64  \n",
      " 1   Attrition_Flag            10127 non-null  object \n",
      " 2   Customer_Age              10127 non-null  int64  \n",
      " 3   Gender                    10127 non-null  object \n",
      " 4   Dependent_count           10127 non-null  int64  \n",
      " 5   Education_Level           10127 non-null  object \n",
      " 6   Marital_Status            10127 non-null  object \n",
      " 7   Income_Category           10127 non-null  object \n",
      " 8   Card_Category             10127 non-null  object \n",
      " 9   Months_on_book            10127 non-null  int64  \n",
      " 10  Total_Relationship_Count  10127 non-null  int64  \n",
      " 11  Months_Inactive_12_mon    10127 non-null  int64  \n",
      " 12  Contacts_Count_12_mon     10127 non-null  int64  \n",
      " 13  Credit_Limit              10127 non-null  float64\n",
      " 14  Total_Revolving_Bal       10127 non-null  int64  \n",
      " 15  Avg_Open_To_Buy           10127 non-null  float64\n",
      " 16  Total_Amt_Chng_Q4_Q1      10127 non-null  float64\n",
      " 17  Total_Trans_Amt           10127 non-null  int64  \n",
      " 18  Total_Trans_Ct            10127 non-null  int64  \n",
      " 19  Total_Ct_Chng_Q4_Q1       10127 non-null  float64\n",
      " 20  Avg_Utilization_Ratio     10127 non-null  float64\n",
      "dtypes: float64(5), int64(10), object(6)\n",
      "memory usage: 1.6+ MB\n"
     ]
    }
   ],
   "source": [
    "df.info()"
   ]
  },
  {
   "cell_type": "markdown",
   "id": "a057efdd",
   "metadata": {},
   "source": [
    "# Business Questions & Analysis Plan\n",
    "### Overall Churn Profile\n",
    "\n",
    "1. What is the overall churn rate?\n",
    "2. How many customers are attrited vs existing?\n",
    "\n",
    "### Does age affect churn likelihood (young vs old)?\n",
    "\n",
    "1. Is there a difference in churn between genders?\n",
    "2. How does dependent_count (family responsibility) relate to churn?\n",
    "\n",
    "### Socioeconomic Factors & Churn\n",
    "\n",
    "1. Does churn vary by education level?\n",
    "2. Does income category affect churn (low vs high income)?\n",
    "3. Does marital status play a role in churn?\n",
    "\n",
    "### How does churn differ across card categories (Blue, Silver, Gold, Platinum)?\n",
    "\n",
    "1. Does total relationship count (number of products held) reduce churn?\n",
    "2. Does longer tenure (months_on_book) make customers more loyal?\n",
    "\n",
    "### Engagement & Activity Patterns\n",
    "\n",
    "1. Do inactive months increase churn probability?\n",
    "2. Does contacts count in 12 months reduce churn, or is it a frustration signal?\n",
    "3. Are churned customers transacting less frequently (Total_Trans_Ct)?\n",
    "\n",
    "### Financial Behavior & Churn\n",
    "\n",
    "1. Does credit limit level affect churn?\n",
    "2. Does revolving balance (debt carried) relate to churn?\n",
    "3. Do customers with high utilization ratio churn more?\n",
    "\n",
    "### Spending Trends & Churn\n",
    "\n",
    "1. Do churned customers spend less in total (Total_Trans_Amt)?\n",
    "2. How does change in transaction amount (Q4/Q1) differ between churned and retained?\n",
    "3. How does change in transaction count (Q4/Q1) differ between churned and retained?\n",
    "\n",
    "### Early Warning Indicators\n",
    "\n",
    "1. Which variables are most strongly associated with churn?\n",
    "2. Can we outline a profile of a high-risk customer (demographic + behavior + financial)?\n",
    "\n",
    "### Actionable Recommendations\n",
    "\n",
    "1. Which customer groups should we target with retention strategies?\n",
    "\n",
    "\n",
    "------------------------------------------------\n"
   ]
  },
  {
   "cell_type": "markdown",
   "id": "241e60db",
   "metadata": {},
   "source": [
    "# Big picture insights"
   ]
  },
  {
   "cell_type": "code",
   "execution_count": 9,
   "id": "8c4016ce",
   "metadata": {},
   "outputs": [
    {
     "data": {
      "image/png": "[encoded data removed]",
      "text/plain": [
       "<Figure size 1000x600 with 1 Axes>"
      ]
     },
     "metadata": {},
     "output_type": "display_data"
    },
    {
     "name": "stdout",
     "output_type": "stream",
     "text": [
      "\n",
      "Churn Rate Summary:\n",
      "--------------------------------------------------\n",
      "Total Customers: 10,127\n",
      "Churned Customers: 1,627\n",
      "Overall Churn Rate: 16.1%\n"
     ]
    }
   ],
   "source": [
    "# Calculate overall churn rate\n",
    "churn_rate = df['Attrition_Flag'].value_counts(normalize=True)\n",
    "churn_counts = df['Attrition_Flag'].value_counts()\n",
    "\n",
    "# Create figure with both percentage and count\n",
    "fig, ax = plt.subplots(figsize=(10, 6))\n",
    "\n",
    "# Plot percentage bars\n",
    "bars = ax.bar(churn_rate.index, churn_rate * 100)\n",
    "\n",
    "# Annotate percentages and counts\n",
    "for i, (pct, cnt) in enumerate(zip(churn_rate, churn_counts)):\n",
    "    ax.text(i, pct*100/2, \n",
    "            f'{pct*100:.1f}%\\n(n={cnt:,})',\n",
    "            ha='center', va='center')\n",
    "\n",
    "# Customize plot\n",
    "ax.set_title('Customer Churn Rate Distribution', pad=20)\n",
    "ax.set_ylabel('Percentage of Customers')\n",
    "plt.xticks(rotation=0)\n",
    "\n",
    "# Add sample size in bottom right\n",
    "plt.figtext(0.99, 0.01, f'Total N = {len(df):,}', \n",
    "            ha='right', va='bottom', fontsize=8)\n",
    "\n",
    "# Display plot\n",
    "plt.tight_layout()\n",
    "plt.show()\n",
    "\n",
    "# Print summary statistics\n",
    "print(\"\\nChurn Rate Summary:\")\n",
    "print(\"-\" * 50)\n",
    "print(f\"Total Customers: {len(df):,}\")\n",
    "print(f\"Churned Customers: {churn_counts['Attrited Customer']:,}\")\n",
    "print(f\"Overall Churn Rate: {churn_rate['Attrited Customer']*100:.1f}%\")# Demographic Risk Analysis\n",
    "\n"
   ]
  },
  {
   "cell_type": "code",
   "execution_count": 5,
   "id": "048e2ca5",
   "metadata": {},
   "outputs": [
    {
     "data": {
      "text/plain": [
       "Index(['CLIENTNUM', 'Attrition_Flag', 'Customer_Age', 'Gender',\n",
       "       'Dependent_count', 'Education_Level', 'Marital_Status',\n",
       "       'Income_Category', 'Card_Category', 'Months_on_book',\n",
       "       'Total_Relationship_Count', 'Months_Inactive_12_mon',\n",
       "       'Contacts_Count_12_mon', 'Credit_Limit', 'Total_Revolving_Bal',\n",
       "       'Avg_Open_To_Buy', 'Total_Amt_Chng_Q4_Q1', 'Total_Trans_Amt',\n",
       "       'Total_Trans_Ct', 'Total_Ct_Chng_Q4_Q1', 'Avg_Utilization_Ratio'],\n",
       "      dtype='object')"
      ]
     },
     "execution_count": 5,
     "metadata": {},
     "output_type": "execute_result"
    }
   ],
   "source": [
    "df.columns"
   ]
  },
  {
   "cell_type": "code",
   "execution_count": null,
   "id": "1beefe0c",
   "metadata": {},
   "outputs": [
    {
     "data": {
      "image/png": "[encoded data removed]",
      "text/plain": [
       "<Figure size 1500x1200 with 2 Axes>"
      ]
     },
     "metadata": {},
     "output_type": "display_data"
    },
    {
     "data": {
      "application/vnd.microsoft.datawrangler.viewer.v0+json": {
       "columns": [
        {
         "name": "index",
         "rawType": "object",
         "type": "string"
        },
        {
         "name": "point_biserial_corr",
         "rawType": "float64",
         "type": "float"
        }
       ],
       "ref": "6e39a5ae-9db5-4852-bf8b-9c02599734d4",
       "rows": [
        [
         "Total_Trans_Ct",
         "-0.371"
        ],
        [
         "Total_Ct_Chng_Q4_Q1",
         "-0.29"
        ],
        [
         "Total_Revolving_Bal",
         "-0.263"
        ],
        [
         "Contacts_Count_12_mon",
         "0.204"
        ],
        [
         "Avg_Utilization_Ratio",
         "-0.178"
        ],
        [
         "Total_Trans_Amt",
         "-0.169"
        ],
        [
         "Months_Inactive_12_mon",
         "0.152"
        ],
        [
         "Total_Relationship_Count",
         "-0.15"
        ],
        [
         "Total_Amt_Chng_Q4_Q1",
         "-0.131"
        ],
        [
         "Credit_Limit",
         "-0.024"
        ],
        [
         "Dependent_count",
         "0.019"
        ],
        [
         "Customer_Age",
         "0.018"
        ],
        [
         "Months_on_book",
         "0.014"
        ],
        [
         "Avg_Open_To_Buy",
         "-0.0"
        ]
       ],
       "shape": {
        "columns": 1,
        "rows": 14
       }
      },
      "text/html": [
       "<div>\n",
       "<style scoped>\n",
       "    .dataframe tbody tr th:only-of-type {\n",
       "        vertical-align: middle;\n",
       "    }\n",
       "\n",
       "    .dataframe tbody tr th {\n",
       "        vertical-align: top;\n",
       "    }\n",
       "\n",
       "    .dataframe thead th {\n",
       "        text-align: right;\n",
       "    }\n",
       "</style>\n",
       "<table border=\"1\" class=\"dataframe\">\n",
       "  <thead>\n",
       "    <tr style=\"text-align: right;\">\n",
       "      <th></th>\n",
       "      <th>point_biserial_corr</th>\n",
       "    </tr>\n",
       "  </thead>\n",
       "  <tbody>\n",
       "    <tr>\n",
       "      <th>Total_Trans_Ct</th>\n",
       "      <td>-0.371</td>\n",
       "    </tr>\n",
       "    <tr>\n",
       "      <th>Total_Ct_Chng_Q4_Q1</th>\n",
       "      <td>-0.290</td>\n",
       "    </tr>\n",
       "    <tr>\n",
       "      <th>Total_Revolving_Bal</th>\n",
       "      <td>-0.263</td>\n",
       "    </tr>\n",
       "    <tr>\n",
       "      <th>Contacts_Count_12_mon</th>\n",
       "      <td>0.204</td>\n",
       "    </tr>\n",
       "    <tr>\n",
       "      <th>Avg_Utilization_Ratio</th>\n",
       "      <td>-0.178</td>\n",
       "    </tr>\n",
       "    <tr>\n",
       "      <th>Total_Trans_Amt</th>\n",
       "      <td>-0.169</td>\n",
       "    </tr>\n",
       "    <tr>\n",
       "      <th>Months_Inactive_12_mon</th>\n",
       "      <td>0.152</td>\n",
       "    </tr>\n",
       "    <tr>\n",
       "      <th>Total_Relationship_Count</th>\n",
       "      <td>-0.150</td>\n",
       "    </tr>\n",
       "    <tr>\n",
       "      <th>Total_Amt_Chng_Q4_Q1</th>\n",
       "      <td>-0.131</td>\n",
       "    </tr>\n",
       "    <tr>\n",
       "      <th>Credit_Limit</th>\n",
       "      <td>-0.024</td>\n",
       "    </tr>\n",
       "    <tr>\n",
       "      <th>Dependent_count</th>\n",
       "      <td>0.019</td>\n",
       "    </tr>\n",
       "    <tr>\n",
       "      <th>Customer_Age</th>\n",
       "      <td>0.018</td>\n",
       "    </tr>\n",
       "    <tr>\n",
       "      <th>Months_on_book</th>\n",
       "      <td>0.014</td>\n",
       "    </tr>\n",
       "    <tr>\n",
       "      <th>Avg_Open_To_Buy</th>\n",
       "      <td>-0.000</td>\n",
       "    </tr>\n",
       "  </tbody>\n",
       "</table>\n",
       "</div>"
      ],
      "text/plain": [
       "                          point_biserial_corr\n",
       "Total_Trans_Ct                         -0.371\n",
       "Total_Ct_Chng_Q4_Q1                    -0.290\n",
       "Total_Revolving_Bal                    -0.263\n",
       "Contacts_Count_12_mon                   0.204\n",
       "Avg_Utilization_Ratio                  -0.178\n",
       "Total_Trans_Amt                        -0.169\n",
       "Months_Inactive_12_mon                  0.152\n",
       "Total_Relationship_Count               -0.150\n",
       "Total_Amt_Chng_Q4_Q1                   -0.131\n",
       "Credit_Limit                           -0.024\n",
       "Dependent_count                         0.019\n",
       "Customer_Age                            0.018\n",
       "Months_on_book                          0.014\n",
       "Avg_Open_To_Buy                        -0.000"
      ]
     },
     "execution_count": 9,
     "metadata": {},
     "output_type": "execute_result"
    }
   ],
   "source": [
    "\n",
    "# Create age bins\n",
    "df['Age_Group'] = pd.cut(df['Customer_Age'], \n",
    "                        bins=[26 ,36, 46, 56, 100],\n",
    "                        labels=['26-35', '36-45', '46-55', '55+'])\n",
    "\n",
    "# Separate features into categorical and numerical\n",
    "categorical_features = ['Gender', 'Education_Level', 'Marital_Status', 'Age_Group',\n",
    "                       'Income_Category', 'Card_Category',]\n",
    "numerical_features = ['Customer_Age', 'Dependent_count', 'Months_on_book',\n",
    "                     'Total_Relationship_Count', 'Months_Inactive_12_mon',\n",
    "                     'Contacts_Count_12_mon', 'Credit_Limit', 'Total_Revolving_Bal',\n",
    "                     'Avg_Open_To_Buy', 'Total_Trans_Amt', 'Total_Trans_Ct',\n",
    "                     'Total_Amt_Chng_Q4_Q1', 'Total_Ct_Chng_Q4_Q1', \n",
    "                     'Avg_Utilization_Ratio']\n",
    "\n",
    "# Create figure with subplots\n",
    "fig, (ax1, ax2) = plt.subplots(2, 1, figsize=(15, 12))\n",
    "\n",
    "\n",
    "# 1. Categorical Features: Chi-square test\n",
    "chi_square_results = {}\n",
    "for cat_feature in categorical_features:\n",
    "    contingency = pd.crosstab(df[cat_feature], df['Attrition_Flag'])\n",
    "    chi2, p_val, _, _ = chi2_contingency(contingency)\n",
    "    chi_square_results[cat_feature] = {'chi2': chi2, 'p_value': p_val}\n",
    "\n",
    "# Plot chi-square statistics\n",
    "cat_stats = pd.DataFrame(chi_square_results).T\n",
    "cat_stats['-log10(p)'] = -np.log10(cat_stats['p_value'])\n",
    "sorted_cat_stats = cat_stats['-log10(p)'].sort_values(ascending=True)\n",
    "\n",
    "# Create horizontal bar plot for categorical features\n",
    "sorted_cat_stats.plot(kind='barh', ax=ax1)\n",
    "ax1.set_title('Categorical Features: Statistical Significance with Churn')\n",
    "ax1.axvline(-np.log10(0.05), color='r', linestyle='--', label='p=0.05 threshold')\n",
    "\n",
    "# Add value labels inside bars\n",
    "for i, v in enumerate(sorted_cat_stats):\n",
    "    ax1.text(v/2, i, f'{v:.2f}', ha='center', va='center')\n",
    "\n",
    "# 2. Numerical Features: Point-Biserial Correlation with churn\n",
    "churn_binary = (df['Attrition_Flag'] == 'Attrited Customer').astype(int)\n",
    "pb_correlations = {}\n",
    "for num_feature in numerical_features:\n",
    "    corr, _ = pointbiserialr(churn_binary, df[num_feature])\n",
    "    pb_correlations[num_feature] = corr\n",
    "\n",
    "# Sort by absolute correlation and plot\n",
    "abs_pb_corr = pd.Series(pb_correlations).abs().sort_values(ascending=True)\n",
    "abs_pb_corr.plot(kind='barh', ax=ax2)\n",
    "ax2.set_title('Numerical Features: Absolute Point-Biserial Correlation with Churn')\n",
    "\n",
    "\n",
    "\n",
    "plt.tight_layout()\n",
    "plt.show()\n",
    "\n",
    "# Create styled tables\n",
    "def style_negative(v):\n",
    "    return 'color: red' if v < 0 else 'color: green'\n",
    "\n",
    "# Categorical features table\n",
    "cat_table = pd.DataFrame(chi_square_results).T\n",
    "cat_table = cat_table.sort_values('chi2', ascending=False)\n",
    "cat_table = cat_table.round(4)\n",
    "# Display categorical features association table\n",
    "cat_table\n",
    "\n",
    "# Display numerical features point-biserial correlation table\n",
    "num_table = pd.DataFrame(pb_correlations, index=['point_biserial_corr']).T\n",
    "num_table = num_table.sort_values('point_biserial_corr', key=abs, ascending=False)\n",
    "num_table = num_table.round(3)\n",
    "num_table\n",
    "\n"
   ]
  },
  {
   "cell_type": "code",
   "execution_count": 10,
   "id": "83f0828c",
   "metadata": {},
   "outputs": [
    {
     "data": {
      "application/vnd.microsoft.datawrangler.viewer.v0+json": {
       "columns": [
        {
         "name": "index",
         "rawType": "object",
         "type": "string"
        },
        {
         "name": "chi2",
         "rawType": "float64",
         "type": "float"
        },
        {
         "name": "p_value",
         "rawType": "float64",
         "type": "float"
        }
       ],
       "ref": "f30a18b0-1fcc-4c83-a7a0-10605b7fcc55",
       "rows": [
        [
         "Gender",
         "13.8656",
         "0.0002"
        ],
        [
         "Income_Category",
         "12.8323",
         "0.025"
        ],
        [
         "Education_Level",
         "12.5112",
         "0.0515"
        ],
        [
         "Age_Group",
         "6.4032",
         "0.0936"
        ],
        [
         "Marital_Status",
         "6.0561",
         "0.1089"
        ],
        [
         "Card_Category",
         "2.2342",
         "0.5252"
        ]
       ],
       "shape": {
        "columns": 2,
        "rows": 6
       }
      },
      "text/html": [
       "<div>\n",
       "<style scoped>\n",
       "    .dataframe tbody tr th:only-of-type {\n",
       "        vertical-align: middle;\n",
       "    }\n",
       "\n",
       "    .dataframe tbody tr th {\n",
       "        vertical-align: top;\n",
       "    }\n",
       "\n",
       "    .dataframe thead th {\n",
       "        text-align: right;\n",
       "    }\n",
       "</style>\n",
       "<table border=\"1\" class=\"dataframe\">\n",
       "  <thead>\n",
       "    <tr style=\"text-align: right;\">\n",
       "      <th></th>\n",
       "      <th>chi2</th>\n",
       "      <th>p_value</th>\n",
       "    </tr>\n",
       "  </thead>\n",
       "  <tbody>\n",
       "    <tr>\n",
       "      <th>Gender</th>\n",
       "      <td>13.8656</td>\n",
       "      <td>0.0002</td>\n",
       "    </tr>\n",
       "    <tr>\n",
       "      <th>Income_Category</th>\n",
       "      <td>12.8323</td>\n",
       "      <td>0.0250</td>\n",
       "    </tr>\n",
       "    <tr>\n",
       "      <th>Education_Level</th>\n",
       "      <td>12.5112</td>\n",
       "      <td>0.0515</td>\n",
       "    </tr>\n",
       "    <tr>\n",
       "      <th>Age_Group</th>\n",
       "      <td>6.4032</td>\n",
       "      <td>0.0936</td>\n",
       "    </tr>\n",
       "    <tr>\n",
       "      <th>Marital_Status</th>\n",
       "      <td>6.0561</td>\n",
       "      <td>0.1089</td>\n",
       "    </tr>\n",
       "    <tr>\n",
       "      <th>Card_Category</th>\n",
       "      <td>2.2342</td>\n",
       "      <td>0.5252</td>\n",
       "    </tr>\n",
       "  </tbody>\n",
       "</table>\n",
       "</div>"
      ],
      "text/plain": [
       "                    chi2  p_value\n",
       "Gender           13.8656   0.0002\n",
       "Income_Category  12.8323   0.0250\n",
       "Education_Level  12.5112   0.0515\n",
       "Age_Group         6.4032   0.0936\n",
       "Marital_Status    6.0561   0.1089\n",
       "Card_Category     2.2342   0.5252"
      ]
     },
     "execution_count": 10,
     "metadata": {},
     "output_type": "execute_result"
    }
   ],
   "source": [
    "cat_table"
   ]
  },
  {
   "cell_type": "markdown",
   "id": "d9ad45fb",
   "metadata": {},
   "source": [
    "most influential features on churn are:\n",
    "categorical features:\n",
    "\n",
    "1. gender\n",
    "2. income category\n",
    "3. education level\n",
    "------------------------------------------------\n",
    "numerical features:\n",
    "\n",
    "1. total transaction count\n",
    "2. total ct change q4 q1\n",
    "3. total revolving balance\n",
    "\n"
   ]
  },
  {
   "cell_type": "markdown",
   "id": "d237b182",
   "metadata": {},
   "source": [
    "# Demographic Risk Analysis\n",
    "\n",
    "Analyzing churn patterns across key demographic variables:\n",
    "- most influential:\n",
    "1. gender\n",
    "2. income category\n",
    "3. education level\n",
    "    - Age groups\n",
    "    - Marital status \n",
    "\n",
    "\n",
    "For each demographic factor we'll:\n",
    "1. the churners distribution (% of each category to the total churners)\n",
    "2. Visualize the distributions\n",
    "3. Perform statistical testing where appropriate\n",
    "4. Identify high-risk segments (≥1.5x baseline churn)\n",
    "5. Calculate churn rates by group"
   ]
  },
  {
   "cell_type": "code",
   "execution_count": 42,
   "id": "cd7087c0",
   "metadata": {},
   "outputs": [
    {
     "data": {
      "application/vnd.microsoft.datawrangler.viewer.v0+json": {
       "columns": [
        {
         "name": "index",
         "rawType": "int64",
         "type": "integer"
        },
        {
         "name": "CLIENTNUM",
         "rawType": "int64",
         "type": "integer"
        },
        {
         "name": "Attrition_Flag",
         "rawType": "object",
         "type": "string"
        },
        {
         "name": "Customer_Age",
         "rawType": "int64",
         "type": "integer"
        },
        {
         "name": "Gender",
         "rawType": "object",
         "type": "string"
        },
        {
         "name": "Dependent_count",
         "rawType": "int64",
         "type": "integer"
        },
        {
         "name": "Education_Level",
         "rawType": "object",
         "type": "string"
        },
        {
         "name": "Marital_Status",
         "rawType": "object",
         "type": "string"
        },
        {
         "name": "Income_Category",
         "rawType": "object",
         "type": "string"
        },
        {
         "name": "Card_Category",
         "rawType": "object",
         "type": "string"
        },
        {
         "name": "Months_on_book",
         "rawType": "int64",
         "type": "integer"
        },
        {
         "name": "Total_Relationship_Count",
         "rawType": "int64",
         "type": "integer"
        },
        {
         "name": "Months_Inactive_12_mon",
         "rawType": "int64",
         "type": "integer"
        },
        {
         "name": "Contacts_Count_12_mon",
         "rawType": "int64",
         "type": "integer"
        },
        {
         "name": "Credit_Limit",
         "rawType": "float64",
         "type": "float"
        },
        {
         "name": "Total_Revolving_Bal",
         "rawType": "int64",
         "type": "integer"
        },
        {
         "name": "Avg_Open_To_Buy",
         "rawType": "float64",
         "type": "float"
        },
        {
         "name": "Total_Amt_Chng_Q4_Q1",
         "rawType": "float64",
         "type": "float"
        },
        {
         "name": "Total_Trans_Amt",
         "rawType": "int64",
         "type": "integer"
        },
        {
         "name": "Total_Trans_Ct",
         "rawType": "int64",
         "type": "integer"
        },
        {
         "name": "Total_Ct_Chng_Q4_Q1",
         "rawType": "float64",
         "type": "float"
        },
        {
         "name": "Avg_Utilization_Ratio",
         "rawType": "float64",
         "type": "float"
        }
       ],
       "ref": "2aeec145-6907-4a9b-a920-80c94254e7ac",
       "rows": [
        [
         "21",
         "708508758",
         "Attrited Customer",
         "62",
         "F",
         "0",
         "Graduate",
         "Married",
         "Less than $40K",
         "Blue",
         "49",
         "2",
         "3",
         "3",
         "1438.3",
         "0",
         "1438.3",
         "1.047",
         "692",
         "16",
         "0.6",
         "0.0"
        ],
        [
         "39",
         "708300483",
         "Attrited Customer",
         "66",
         "F",
         "0",
         "Doctorate",
         "Married",
         "Unknown",
         "Blue",
         "56",
         "5",
         "4",
         "3",
         "7882.0",
         "605",
         "7277.0",
         "1.052",
         "704",
         "16",
         "0.143",
         "0.077"
        ],
        [
         "51",
         "779471883",
         "Attrited Customer",
         "54",
         "F",
         "1",
         "Graduate",
         "Married",
         "Less than $40K",
         "Blue",
         "40",
         "2",
         "3",
         "1",
         "1438.3",
         "808",
         "630.3",
         "0.997",
         "705",
         "19",
         "0.9",
         "0.562"
        ],
        [
         "54",
         "714374133",
         "Attrited Customer",
         "56",
         "M",
         "2",
         "Graduate",
         "Married",
         "$120K +",
         "Blue",
         "36",
         "1",
         "3",
         "3",
         "15769.0",
         "0",
         "15769.0",
         "1.041",
         "602",
         "15",
         "0.364",
         "0.0"
        ],
        [
         "61",
         "712030833",
         "Attrited Customer",
         "48",
         "M",
         "2",
         "Graduate",
         "Married",
         "$60K - $80K",
         "Silver",
         "35",
         "2",
         "4",
         "4",
         "34516.0",
         "0",
         "34516.0",
         "0.763",
         "691",
         "15",
         "0.5",
         "0.0"
        ]
       ],
       "shape": {
        "columns": 21,
        "rows": 5
       }
      },
      "text/html": [
       "<div>\n",
       "<style scoped>\n",
       "    .dataframe tbody tr th:only-of-type {\n",
       "        vertical-align: middle;\n",
       "    }\n",
       "\n",
       "    .dataframe tbody tr th {\n",
       "        vertical-align: top;\n",
       "    }\n",
       "\n",
       "    .dataframe thead th {\n",
       "        text-align: right;\n",
       "    }\n",
       "</style>\n",
       "<table border=\"1\" class=\"dataframe\">\n",
       "  <thead>\n",
       "    <tr style=\"text-align: right;\">\n",
       "      <th></th>\n",
       "      <th>CLIENTNUM</th>\n",
       "      <th>Attrition_Flag</th>\n",
       "      <th>Customer_Age</th>\n",
       "      <th>Gender</th>\n",
       "      <th>Dependent_count</th>\n",
       "      <th>Education_Level</th>\n",
       "      <th>Marital_Status</th>\n",
       "      <th>Income_Category</th>\n",
       "      <th>Card_Category</th>\n",
       "      <th>Months_on_book</th>\n",
       "      <th>...</th>\n",
       "      <th>Months_Inactive_12_mon</th>\n",
       "      <th>Contacts_Count_12_mon</th>\n",
       "      <th>Credit_Limit</th>\n",
       "      <th>Total_Revolving_Bal</th>\n",
       "      <th>Avg_Open_To_Buy</th>\n",
       "      <th>Total_Amt_Chng_Q4_Q1</th>\n",
       "      <th>Total_Trans_Amt</th>\n",
       "      <th>Total_Trans_Ct</th>\n",
       "      <th>Total_Ct_Chng_Q4_Q1</th>\n",
       "      <th>Avg_Utilization_Ratio</th>\n",
       "    </tr>\n",
       "  </thead>\n",
       "  <tbody>\n",
       "    <tr>\n",
       "      <th>21</th>\n",
       "      <td>708508758</td>\n",
       "      <td>Attrited Customer</td>\n",
       "      <td>62</td>\n",
       "      <td>F</td>\n",
       "      <td>0</td>\n",
       "      <td>Graduate</td>\n",
       "      <td>Married</td>\n",
       "      <td>Less than $40K</td>\n",
       "      <td>Blue</td>\n",
       "      <td>49</td>\n",
       "      <td>...</td>\n",
       "      <td>3</td>\n",
       "      <td>3</td>\n",
       "      <td>1438.3</td>\n",
       "      <td>0</td>\n",
       "      <td>1438.3</td>\n",
       "      <td>1.047</td>\n",
       "      <td>692</td>\n",
       "      <td>16</td>\n",
       "      <td>0.600</td>\n",
       "      <td>0.000</td>\n",
       "    </tr>\n",
       "    <tr>\n",
       "      <th>39</th>\n",
       "      <td>708300483</td>\n",
       "      <td>Attrited Customer</td>\n",
       "      <td>66</td>\n",
       "      <td>F</td>\n",
       "      <td>0</td>\n",
       "      <td>Doctorate</td>\n",
       "      <td>Married</td>\n",
       "      <td>Unknown</td>\n",
       "      <td>Blue</td>\n",
       "      <td>56</td>\n",
       "      <td>...</td>\n",
       "      <td>4</td>\n",
       "      <td>3</td>\n",
       "      <td>7882.0</td>\n",
       "      <td>605</td>\n",
       "      <td>7277.0</td>\n",
       "      <td>1.052</td>\n",
       "      <td>704</td>\n",
       "      <td>16</td>\n",
       "      <td>0.143</td>\n",
       "      <td>0.077</td>\n",
       "    </tr>\n",
       "    <tr>\n",
       "      <th>51</th>\n",
       "      <td>779471883</td>\n",
       "      <td>Attrited Customer</td>\n",
       "      <td>54</td>\n",
       "      <td>F</td>\n",
       "      <td>1</td>\n",
       "      <td>Graduate</td>\n",
       "      <td>Married</td>\n",
       "      <td>Less than $40K</td>\n",
       "      <td>Blue</td>\n",
       "      <td>40</td>\n",
       "      <td>...</td>\n",
       "      <td>3</td>\n",
       "      <td>1</td>\n",
       "      <td>1438.3</td>\n",
       "      <td>808</td>\n",
       "      <td>630.3</td>\n",
       "      <td>0.997</td>\n",
       "      <td>705</td>\n",
       "      <td>19</td>\n",
       "      <td>0.900</td>\n",
       "      <td>0.562</td>\n",
       "    </tr>\n",
       "    <tr>\n",
       "      <th>54</th>\n",
       "      <td>714374133</td>\n",
       "      <td>Attrited Customer</td>\n",
       "      <td>56</td>\n",
       "      <td>M</td>\n",
       "      <td>2</td>\n",
       "      <td>Graduate</td>\n",
       "      <td>Married</td>\n",
       "      <td>$120K +</td>\n",
       "      <td>Blue</td>\n",
       "      <td>36</td>\n",
       "      <td>...</td>\n",
       "      <td>3</td>\n",
       "      <td>3</td>\n",
       "      <td>15769.0</td>\n",
       "      <td>0</td>\n",
       "      <td>15769.0</td>\n",
       "      <td>1.041</td>\n",
       "      <td>602</td>\n",
       "      <td>15</td>\n",
       "      <td>0.364</td>\n",
       "      <td>0.000</td>\n",
       "    </tr>\n",
       "    <tr>\n",
       "      <th>61</th>\n",
       "      <td>712030833</td>\n",
       "      <td>Attrited Customer</td>\n",
       "      <td>48</td>\n",
       "      <td>M</td>\n",
       "      <td>2</td>\n",
       "      <td>Graduate</td>\n",
       "      <td>Married</td>\n",
       "      <td>$60K - $80K</td>\n",
       "      <td>Silver</td>\n",
       "      <td>35</td>\n",
       "      <td>...</td>\n",
       "      <td>4</td>\n",
       "      <td>4</td>\n",
       "      <td>34516.0</td>\n",
       "      <td>0</td>\n",
       "      <td>34516.0</td>\n",
       "      <td>0.763</td>\n",
       "      <td>691</td>\n",
       "      <td>15</td>\n",
       "      <td>0.500</td>\n",
       "      <td>0.000</td>\n",
       "    </tr>\n",
       "  </tbody>\n",
       "</table>\n",
       "<p>5 rows × 21 columns</p>\n",
       "</div>"
      ],
      "text/plain": [
       "    CLIENTNUM     Attrition_Flag  Customer_Age Gender  Dependent_count  \\\n",
       "21  708508758  Attrited Customer            62      F                0   \n",
       "39  708300483  Attrited Customer            66      F                0   \n",
       "51  779471883  Attrited Customer            54      F                1   \n",
       "54  714374133  Attrited Customer            56      M                2   \n",
       "61  712030833  Attrited Customer            48      M                2   \n",
       "\n",
       "   Education_Level Marital_Status Income_Category Card_Category  \\\n",
       "21        Graduate        Married  Less than $40K          Blue   \n",
       "39       Doctorate        Married         Unknown          Blue   \n",
       "51        Graduate        Married  Less than $40K          Blue   \n",
       "54        Graduate        Married         $120K +          Blue   \n",
       "61        Graduate        Married     $60K - $80K        Silver   \n",
       "\n",
       "    Months_on_book  ...  Months_Inactive_12_mon  Contacts_Count_12_mon  \\\n",
       "21              49  ...                       3                      3   \n",
       "39              56  ...                       4                      3   \n",
       "51              40  ...                       3                      1   \n",
       "54              36  ...                       3                      3   \n",
       "61              35  ...                       4                      4   \n",
       "\n",
       "    Credit_Limit  Total_Revolving_Bal  Avg_Open_To_Buy  Total_Amt_Chng_Q4_Q1  \\\n",
       "21        1438.3                    0           1438.3                 1.047   \n",
       "39        7882.0                  605           7277.0                 1.052   \n",
       "51        1438.3                  808            630.3                 0.997   \n",
       "54       15769.0                    0          15769.0                 1.041   \n",
       "61       34516.0                    0          34516.0                 0.763   \n",
       "\n",
       "    Total_Trans_Amt  Total_Trans_Ct  Total_Ct_Chng_Q4_Q1  \\\n",
       "21              692              16                0.600   \n",
       "39              704              16                0.143   \n",
       "51              705              19                0.900   \n",
       "54              602              15                0.364   \n",
       "61              691              15                0.500   \n",
       "\n",
       "    Avg_Utilization_Ratio  \n",
       "21                  0.000  \n",
       "39                  0.077  \n",
       "51                  0.562  \n",
       "54                  0.000  \n",
       "61                  0.000  \n",
       "\n",
       "[5 rows x 21 columns]"
      ]
     },
     "execution_count": 42,
     "metadata": {},
     "output_type": "execute_result"
    }
   ],
   "source": [
    "churned_df = df[df['Attrition_Flag'] == 'Attrited Customer']\n",
    "churned_df.head()\n",
    "total_churners = len(churned_df)"
   ]
  },
  {
   "cell_type": "markdown",
   "id": "4d484fab",
   "metadata": {},
   "source": [
    "# draft"
   ]
  },
  {
   "cell_type": "code",
   "execution_count": 50,
   "id": "665b15b3",
   "metadata": {},
   "outputs": [
    {
     "data": {
      "application/vnd.microsoft.datawrangler.viewer.v0+json": {
       "columns": [
        {
         "name": "Education_Level",
         "rawType": "object",
         "type": "string"
        },
        {
         "name": "churners",
         "rawType": "int64",
         "type": "integer"
        },
        {
         "name": "total_in_group",
         "rawType": "int64",
         "type": "integer"
        },
        {
         "name": "churn_rate",
         "rawType": "float64",
         "type": "float"
        },
        {
         "name": "pct_of_total_churners",
         "rawType": "float64",
         "type": "float"
        }
       ],
       "ref": "6934ec21-bb3b-4929-9753-c9dcc6d7b152",
       "rows": [
        [
         "Graduate",
         "487",
         "3128",
         "15.57",
         "29.93"
        ],
        [
         "High School",
         "306",
         "2013",
         "15.2",
         "18.81"
        ],
        [
         "Unknown",
         "256",
         "1519",
         "16.85",
         "15.73"
        ],
        [
         "Uneducated",
         "237",
         "1487",
         "15.94",
         "14.57"
        ],
        [
         "College",
         "154",
         "1013",
         "15.2",
         "9.47"
        ],
        [
         "Doctorate",
         "95",
         "451",
         "21.06",
         "5.84"
        ],
        [
         "Post-Graduate",
         "92",
         "516",
         "17.83",
         "5.65"
        ]
       ],
       "shape": {
        "columns": 4,
        "rows": 7
       }
      },
      "text/html": [
       "<div>\n",
       "<style scoped>\n",
       "    .dataframe tbody tr th:only-of-type {\n",
       "        vertical-align: middle;\n",
       "    }\n",
       "\n",
       "    .dataframe tbody tr th {\n",
       "        vertical-align: top;\n",
       "    }\n",
       "\n",
       "    .dataframe thead th {\n",
       "        text-align: right;\n",
       "    }\n",
       "</style>\n",
       "<table border=\"1\" class=\"dataframe\">\n",
       "  <thead>\n",
       "    <tr style=\"text-align: right;\">\n",
       "      <th></th>\n",
       "      <th>churners</th>\n",
       "      <th>total_in_group</th>\n",
       "      <th>churn_rate</th>\n",
       "      <th>pct_of_total_churners</th>\n",
       "    </tr>\n",
       "    <tr>\n",
       "      <th>Education_Level</th>\n",
       "      <th></th>\n",
       "      <th></th>\n",
       "      <th></th>\n",
       "      <th></th>\n",
       "    </tr>\n",
       "  </thead>\n",
       "  <tbody>\n",
       "    <tr>\n",
       "      <th>Graduate</th>\n",
       "      <td>487</td>\n",
       "      <td>3128</td>\n",
       "      <td>15.57</td>\n",
       "      <td>29.93</td>\n",
       "    </tr>\n",
       "    <tr>\n",
       "      <th>High School</th>\n",
       "      <td>306</td>\n",
       "      <td>2013</td>\n",
       "      <td>15.20</td>\n",
       "      <td>18.81</td>\n",
       "    </tr>\n",
       "    <tr>\n",
       "      <th>Unknown</th>\n",
       "      <td>256</td>\n",
       "      <td>1519</td>\n",
       "      <td>16.85</td>\n",
       "      <td>15.73</td>\n",
       "    </tr>\n",
       "    <tr>\n",
       "      <th>Uneducated</th>\n",
       "      <td>237</td>\n",
       "      <td>1487</td>\n",
       "      <td>15.94</td>\n",
       "      <td>14.57</td>\n",
       "    </tr>\n",
       "    <tr>\n",
       "      <th>College</th>\n",
       "      <td>154</td>\n",
       "      <td>1013</td>\n",
       "      <td>15.20</td>\n",
       "      <td>9.47</td>\n",
       "    </tr>\n",
       "    <tr>\n",
       "      <th>Doctorate</th>\n",
       "      <td>95</td>\n",
       "      <td>451</td>\n",
       "      <td>21.06</td>\n",
       "      <td>5.84</td>\n",
       "    </tr>\n",
       "    <tr>\n",
       "      <th>Post-Graduate</th>\n",
       "      <td>92</td>\n",
       "      <td>516</td>\n",
       "      <td>17.83</td>\n",
       "      <td>5.65</td>\n",
       "    </tr>\n",
       "  </tbody>\n",
       "</table>\n",
       "</div>"
      ],
      "text/plain": [
       "                 churners  total_in_group  churn_rate  pct_of_total_churners\n",
       "Education_Level                                                             \n",
       "Graduate              487            3128       15.57                  29.93\n",
       "High School           306            2013       15.20                  18.81\n",
       "Unknown               256            1519       16.85                  15.73\n",
       "Uneducated            237            1487       15.94                  14.57\n",
       "College               154            1013       15.20                   9.47\n",
       "Doctorate              95             451       21.06                   5.84\n",
       "Post-Graduate          92             516       17.83                   5.65"
      ]
     },
     "execution_count": 50,
     "metadata": {},
     "output_type": "execute_result"
    }
   ],
   "source": [
    "\n",
    "\n",
    "pivot_edu = pd.pivot_table(\n",
    "    churned_df,\n",
    "    index='Education_Level',\n",
    "    values='CLIENTNUM',\n",
    "    aggfunc='count'\n",
    ").rename(columns={'CLIENTNUM': 'churners'})\n",
    "\n",
    "group_totals = df.groupby('Education_Level')['CLIENTNUM'].count()\n",
    "pivot_edu['total_in_group'] = group_totals\n",
    "pivot_edu['churn_rate'] = (pivot_edu['churners'] / pivot_edu['total_in_group'] * 100).round(2)\n",
    "pivot_edu['pct_of_total_churners'] = (pivot_edu['churners'] / total_churners * 100).round(2)\n",
    "\n",
    "pivot_edu = pivot_edu.sort_values('churners', ascending=False)\n",
    "pivot_edu\n",
    "# ...existing code..."
   ]
  },
  {
   "cell_type": "code",
   "execution_count": 56,
   "id": "7486ec79",
   "metadata": {},
   "outputs": [
    {
     "data": {
      "image/png": "[encoded data removed]",
      "text/plain": [
       "<Figure size 1800x600 with 2 Axes>"
      ]
     },
     "metadata": {},
     "output_type": "display_data"
    }
   ],
   "source": [
    "# ...existing code...\n",
    "fig, axes = plt.subplots(1, 2, figsize=(18, 6), constrained_layout=True)\n",
    "sns.set_style(\"whitegrid\")\n",
    "data_edu = pivot_edu.reset_index()\n",
    "\n",
    "# Left: churners counts (horizontal)\n",
    "ax = axes[0]\n",
    "sns.barplot(x='churners', y='Education_Level', data=data_edu, palette='muted', ax=ax, orient='h')\n",
    "ax.set_title(\"Churners by Education Level — Counts\")\n",
    "ax.set_xlabel(\"Number of Churners\")\n",
    "for i, row in data_edu.iterrows():\n",
    "    ax.text(row['churners'] + max(data_edu['churners']) * 0.01, i, f\"{int(row['churners']):,}\", va='center', fontsize=15)\n",
    "\n",
    "# Right: churn rate within group (horizontal)\n",
    "ax = axes[1]\n",
    "sns.barplot(x='churn_rate', y='Education_Level', data=data_edu, palette='bright', ax=ax, orient='h')\n",
    "ax.set_title(\"Churn Rate by Education Level (within-group %)\")\n",
    "ax.set_xlabel(\"Churn Rate (%)\")\n",
    "baseline = len(churned_df) / len(df) * 100\n",
    "ax.axvline(baseline, color='red', linestyle='--', linewidth=1)\n",
    "ax.text(baseline + 0.5, -0.2, f\"Overall churn: {baseline:.2f}%\", color='red', fontsize=15)\n",
    "for i, row in data_edu.iterrows():\n",
    "    ax.text(row['churn_rate'] + 0.4, i, f\"{row['churn_rate']:.2f}%\", va='center', fontsize=15)\n",
    "\n",
    "plt.show()\n",
    "# ...existing code..."
   ]
  },
  {
   "cell_type": "code",
   "execution_count": 65,
   "id": "566ba8ff",
   "metadata": {},
   "outputs": [
    {
     "data": {
      "application/vnd.plotly.v1+json": {
       "config": {
        "plotlyServerURL": "https://plot.ly"
       },
       "data": [
        {
         "customdata": [
          [
           29.93
          ],
          [
           18.81
          ],
          [
           15.73
          ],
          [
           14.57
          ],
          [
           9.47
          ],
          [
           5.84
          ],
          [
           5.65
          ]
         ],
         "hovertemplate": "<b>%{x}</b><br>Churners: %{y:,}<br>Share of total churners: %{customdata[0]}%",
         "text": [
          "487",
          "306",
          "256",
          "237",
          "154",
          "95",
          "92"
         ],
         "type": "bar",
         "x": [
          "Graduate",
          "High School",
          "Unknown",
          "Uneducated",
          "College",
          "Doctorate",
          "Post-Graduate"
         ],
         "xaxis": "x",
         "y": [
          487,
          306,
          256,
          237,
          154,
          95,
          92
         ],
         "yaxis": "y"
        },
        {
         "hovertemplate": "<b>%{x}</b><br>Churn Rate: %{y:.2f}%",
         "text": [
          "15.57%",
          "15.20%",
          "16.85%",
          "15.94%",
          "15.20%",
          "21.06%",
          "17.83%"
         ],
         "type": "bar",
         "x": [
          "Graduate",
          "High School",
          "Unknown",
          "Uneducated",
          "College",
          "Doctorate",
          "Post-Graduate"
         ],
         "xaxis": "x2",
         "y": [
          15.57,
          15.2,
          16.85,
          15.94,
          15.2,
          21.06,
          17.83
         ],
         "yaxis": "y2"
        }
       ],
       "layout": {
        "annotations": [
         {
          "font": {
           "size": 16
          },
          "showarrow": false,
          "text": "Churners by Education Level (count & share)",
          "x": 0.225,
          "xanchor": "center",
          "xref": "paper",
          "y": 1,
          "yanchor": "bottom",
          "yref": "paper"
         },
         {
          "font": {
           "size": 16
          },
          "showarrow": false,
          "text": "Churn Rate by Education Level (within-group %)",
          "x": 0.775,
          "xanchor": "center",
          "xref": "paper",
          "y": 1,
          "yanchor": "bottom",
          "yref": "paper"
         },
         {
          "font": {
           "color": "red"
          },
          "showarrow": false,
          "text": "Overall churn: 16.07%",
          "x": 0.46,
          "xanchor": "right",
          "xref": "x2 domain",
          "y": 16.065962279055988,
          "yref": "y2",
          "yshift": 18
         }
        ],
        "height": 500,
        "shapes": [
         {
          "line": {
           "color": "red",
           "dash": "dash"
          },
          "type": "line",
          "x0": 0,
          "x1": 1,
          "xref": "x2 domain",
          "y0": 16.065962279055988,
          "y1": 16.065962279055988,
          "yref": "y2"
         }
        ],
        "showlegend": false,
        "template": {
         "data": {
          "bar": [
           {
            "error_x": {
             "color": "#2a3f5f"
            },
            "error_y": {
             "color": "#2a3f5f"
            },
            "marker": {
             "line": {
              "color": "white",
              "width": 0.5
             },
             "pattern": {
              "fillmode": "overlay",
              "size": 10,
              "solidity": 0.2
             }
            },
            "type": "bar"
           }
          ],
          "barpolar": [
           {
            "marker": {
             "line": {
              "color": "white",
              "width": 0.5
             },
             "pattern": {
              "fillmode": "overlay",
              "size": 10,
              "solidity": 0.2
             }
            },
            "type": "barpolar"
           }
          ],
          "carpet": [
           {
            "aaxis": {
             "endlinecolor": "#2a3f5f",
             "gridcolor": "#C8D4E3",
             "linecolor": "#C8D4E3",
             "minorgridcolor": "#C8D4E3",
             "startlinecolor": "#2a3f5f"
            },
            "baxis": {
             "endlinecolor": "#2a3f5f",
             "gridcolor": "#C8D4E3",
             "linecolor": "#C8D4E3",
             "minorgridcolor": "#C8D4E3",
             "startlinecolor": "#2a3f5f"
            },
            "type": "carpet"
           }
          ],
          "choropleth": [
           {
            "colorbar": {
             "outlinewidth": 0,
             "ticks": ""
            },
            "type": "choropleth"
           }
          ],
          "contour": [
           {
            "colorbar": {
             "outlinewidth": 0,
             "ticks": ""
            },
            "colorscale": [
             [
              0,
              "#0d0887"
             ],
             [
              0.1111111111111111,
              "#46039f"
             ],
             [
              0.2222222222222222,
              "#7201a8"
             ],
             [
              0.3333333333333333,
              "#9c179e"
             ],
             [
              0.4444444444444444,
              "#bd3786"
             ],
             [
              0.5555555555555556,
              "#d8576b"
             ],
             [
              0.6666666666666666,
              "#ed7953"
             ],
             [
              0.7777777777777778,
              "#fb9f3a"
             ],
             [
              0.8888888888888888,
              "#fdca26"
             ],
             [
              1,
              "#f0f921"
             ]
            ],
            "type": "contour"
           }
          ],
          "contourcarpet": [
           {
            "colorbar": {
             "outlinewidth": 0,
             "ticks": ""
            },
            "type": "contourcarpet"
           }
          ],
          "heatmap": [
           {
            "colorbar": {
             "outlinewidth": 0,
             "ticks": ""
            },
            "colorscale": [
             [
              0,
              "#0d0887"
             ],
             [
              0.1111111111111111,
              "#46039f"
             ],
             [
              0.2222222222222222,
              "#7201a8"
             ],
             [
              0.3333333333333333,
              "#9c179e"
             ],
             [
              0.4444444444444444,
              "#bd3786"
             ],
             [
              0.5555555555555556,
              "#d8576b"
             ],
             [
              0.6666666666666666,
              "#ed7953"
             ],
             [
              0.7777777777777778,
              "#fb9f3a"
             ],
             [
              0.8888888888888888,
              "#fdca26"
             ],
             [
              1,
              "#f0f921"
             ]
            ],
            "type": "heatmap"
           }
          ],
          "heatmapgl": [
           {
            "colorbar": {
             "outlinewidth": 0,
             "ticks": ""
            },
            "colorscale": [
             [
              0,
              "#0d0887"
             ],
             [
              0.1111111111111111,
              "#46039f"
             ],
             [
              0.2222222222222222,
              "#7201a8"
             ],
             [
              0.3333333333333333,
              "#9c179e"
             ],
             [
              0.4444444444444444,
              "#bd3786"
             ],
             [
              0.5555555555555556,
              "#d8576b"
             ],
             [
              0.6666666666666666,
              "#ed7953"
             ],
             [
              0.7777777777777778,
              "#fb9f3a"
             ],
             [
              0.8888888888888888,
              "#fdca26"
             ],
             [
              1,
              "#f0f921"
             ]
            ],
            "type": "heatmapgl"
           }
          ],
          "histogram": [
           {
            "marker": {
             "pattern": {
              "fillmode": "overlay",
              "size": 10,
              "solidity": 0.2
             }
            },
            "type": "histogram"
           }
          ],
          "histogram2d": [
           {
            "colorbar": {
             "outlinewidth": 0,
             "ticks": ""
            },
            "colorscale": [
             [
              0,
              "#0d0887"
             ],
             [
              0.1111111111111111,
              "#46039f"
             ],
             [
              0.2222222222222222,
              "#7201a8"
             ],
             [
              0.3333333333333333,
              "#9c179e"
             ],
             [
              0.4444444444444444,
              "#bd3786"
             ],
             [
              0.5555555555555556,
              "#d8576b"
             ],
             [
              0.6666666666666666,
              "#ed7953"
             ],
             [
              0.7777777777777778,
              "#fb9f3a"
             ],
             [
              0.8888888888888888,
              "#fdca26"
             ],
             [
              1,
              "#f0f921"
             ]
            ],
            "type": "histogram2d"
           }
          ],
          "histogram2dcontour": [
           {
            "colorbar": {
             "outlinewidth": 0,
             "ticks": ""
            },
            "colorscale": [
             [
              0,
              "#0d0887"
             ],
             [
              0.1111111111111111,
              "#46039f"
             ],
             [
              0.2222222222222222,
              "#7201a8"
             ],
             [
              0.3333333333333333,
              "#9c179e"
             ],
             [
              0.4444444444444444,
              "#bd3786"
             ],
             [
              0.5555555555555556,
              "#d8576b"
             ],
             [
              0.6666666666666666,
              "#ed7953"
             ],
             [
              0.7777777777777778,
              "#fb9f3a"
             ],
             [
              0.8888888888888888,
              "#fdca26"
             ],
             [
              1,
              "#f0f921"
             ]
            ],
            "type": "histogram2dcontour"
           }
          ],
          "mesh3d": [
           {
            "colorbar": {
             "outlinewidth": 0,
             "ticks": ""
            },
            "type": "mesh3d"
           }
          ],
          "parcoords": [
           {
            "line": {
             "colorbar": {
              "outlinewidth": 0,
              "ticks": ""
             }
            },
            "type": "parcoords"
           }
          ],
          "pie": [
           {
            "automargin": true,
            "type": "pie"
           }
          ],
          "scatter": [
           {
            "marker": {
             "colorbar": {
              "outlinewidth": 0,
              "ticks": ""
             }
            },
            "type": "scatter"
           }
          ],
          "scatter3d": [
           {
            "line": {
             "colorbar": {
              "outlinewidth": 0,
              "ticks": ""
             }
            },
            "marker": {
             "colorbar": {
              "outlinewidth": 0,
              "ticks": ""
             }
            },
            "type": "scatter3d"
           }
          ],
          "scattercarpet": [
           {
            "marker": {
             "colorbar": {
              "outlinewidth": 0,
              "ticks": ""
             }
            },
            "type": "scattercarpet"
           }
          ],
          "scattergeo": [
           {
            "marker": {
             "colorbar": {
              "outlinewidth": 0,
              "ticks": ""
             }
            },
            "type": "scattergeo"
           }
          ],
          "scattergl": [
           {
            "marker": {
             "colorbar": {
              "outlinewidth": 0,
              "ticks": ""
             }
            },
            "type": "scattergl"
           }
          ],
          "scattermapbox": [
           {
            "marker": {
             "colorbar": {
              "outlinewidth": 0,
              "ticks": ""
             }
            },
            "type": "scattermapbox"
           }
          ],
          "scatterpolar": [
           {
            "marker": {
             "colorbar": {
              "outlinewidth": 0,
              "ticks": ""
             }
            },
            "type": "scatterpolar"
           }
          ],
          "scatterpolargl": [
           {
            "marker": {
             "colorbar": {
              "outlinewidth": 0,
              "ticks": ""
             }
            },
            "type": "scatterpolargl"
           }
          ],
          "scatterternary": [
           {
            "marker": {
             "colorbar": {
              "outlinewidth": 0,
              "ticks": ""
             }
            },
            "type": "scatterternary"
           }
          ],
          "surface": [
           {
            "colorbar": {
             "outlinewidth": 0,
             "ticks": ""
            },
            "colorscale": [
             [
              0,
              "#0d0887"
             ],
             [
              0.1111111111111111,
              "#46039f"
             ],
             [
              0.2222222222222222,
              "#7201a8"
             ],
             [
              0.3333333333333333,
              "#9c179e"
             ],
             [
              0.4444444444444444,
              "#bd3786"
             ],
             [
              0.5555555555555556,
              "#d8576b"
             ],
             [
              0.6666666666666666,
              "#ed7953"
             ],
             [
              0.7777777777777778,
              "#fb9f3a"
             ],
             [
              0.8888888888888888,
              "#fdca26"
             ],
             [
              1,
              "#f0f921"
             ]
            ],
            "type": "surface"
           }
          ],
          "table": [
           {
            "cells": {
             "fill": {
              "color": "#EBF0F8"
             },
             "line": {
              "color": "white"
             }
            },
            "header": {
             "fill": {
              "color": "#C8D4E3"
             },
             "line": {
              "color": "white"
             }
            },
            "type": "table"
           }
          ]
         },
         "layout": {
          "annotationdefaults": {
           "arrowcolor": "#2a3f5f",
           "arrowhead": 0,
           "arrowwidth": 1
          },
          "autotypenumbers": "strict",
          "coloraxis": {
           "colorbar": {
            "outlinewidth": 0,
            "ticks": ""
           }
          },
          "colorscale": {
           "diverging": [
            [
             0,
             "#8e0152"
            ],
            [
             0.1,
             "#c51b7d"
            ],
            [
             0.2,
             "#de77ae"
            ],
            [
             0.3,
             "#f1b6da"
            ],
            [
             0.4,
             "#fde0ef"
            ],
            [
             0.5,
             "#f7f7f7"
            ],
            [
             0.6,
             "#e6f5d0"
            ],
            [
             0.7,
             "#b8e186"
            ],
            [
             0.8,
             "#7fbc41"
            ],
            [
             0.9,
             "#4d9221"
            ],
            [
             1,
             "#276419"
            ]
           ],
           "sequential": [
            [
             0,
             "#0d0887"
            ],
            [
             0.1111111111111111,
             "#46039f"
            ],
            [
             0.2222222222222222,
             "#7201a8"
            ],
            [
             0.3333333333333333,
             "#9c179e"
            ],
            [
             0.4444444444444444,
             "#bd3786"
            ],
            [
             0.5555555555555556,
             "#d8576b"
            ],
            [
             0.6666666666666666,
             "#ed7953"
            ],
            [
             0.7777777777777778,
             "#fb9f3a"
            ],
            [
             0.8888888888888888,
             "#fdca26"
            ],
            [
             1,
             "#f0f921"
            ]
           ],
           "sequentialminus": [
            [
             0,
             "#0d0887"
            ],
            [
             0.1111111111111111,
             "#46039f"
            ],
            [
             0.2222222222222222,
             "#7201a8"
            ],
            [
             0.3333333333333333,
             "#9c179e"
            ],
            [
             0.4444444444444444,
             "#bd3786"
            ],
            [
             0.5555555555555556,
             "#d8576b"
            ],
            [
             0.6666666666666666,
             "#ed7953"
            ],
            [
             0.7777777777777778,
             "#fb9f3a"
            ],
            [
             0.8888888888888888,
             "#fdca26"
            ],
            [
             1,
             "#f0f921"
            ]
           ]
          },
          "colorway": [
           "#636efa",
           "#EF553B",
           "#00cc96",
           "#ab63fa",
           "#FFA15A",
           "#19d3f3",
           "#FF6692",
           "#B6E880",
           "#FF97FF",
           "#FECB52"
          ],
          "font": {
           "color": "#2a3f5f"
          },
          "geo": {
           "bgcolor": "white",
           "lakecolor": "white",
           "landcolor": "white",
           "showlakes": true,
           "showland": true,
           "subunitcolor": "#C8D4E3"
          },
          "hoverlabel": {
           "align": "left"
          },
          "hovermode": "closest",
          "mapbox": {
           "style": "light"
          },
          "paper_bgcolor": "white",
          "plot_bgcolor": "white",
          "polar": {
           "angularaxis": {
            "gridcolor": "#EBF0F8",
            "linecolor": "#EBF0F8",
            "ticks": ""
           },
           "bgcolor": "white",
           "radialaxis": {
            "gridcolor": "#EBF0F8",
            "linecolor": "#EBF0F8",
            "ticks": ""
           }
          },
          "scene": {
           "xaxis": {
            "backgroundcolor": "white",
            "gridcolor": "#DFE8F3",
            "gridwidth": 2,
            "linecolor": "#EBF0F8",
            "showbackground": true,
            "ticks": "",
            "zerolinecolor": "#EBF0F8"
           },
           "yaxis": {
            "backgroundcolor": "white",
            "gridcolor": "#DFE8F3",
            "gridwidth": 2,
            "linecolor": "#EBF0F8",
            "showbackground": true,
            "ticks": "",
            "zerolinecolor": "#EBF0F8"
           },
           "zaxis": {
            "backgroundcolor": "white",
            "gridcolor": "#DFE8F3",
            "gridwidth": 2,
            "linecolor": "#EBF0F8",
            "showbackground": true,
            "ticks": "",
            "zerolinecolor": "#EBF0F8"
           }
          },
          "shapedefaults": {
           "line": {
            "color": "#2a3f5f"
           }
          },
          "ternary": {
           "aaxis": {
            "gridcolor": "#DFE8F3",
            "linecolor": "#A2B1C6",
            "ticks": ""
           },
           "baxis": {
            "gridcolor": "#DFE8F3",
            "linecolor": "#A2B1C6",
            "ticks": ""
           },
           "bgcolor": "white",
           "caxis": {
            "gridcolor": "#DFE8F3",
            "linecolor": "#A2B1C6",
            "ticks": ""
           }
          },
          "title": {
           "x": 0.05
          },
          "xaxis": {
           "automargin": true,
           "gridcolor": "#EBF0F8",
           "linecolor": "#EBF0F8",
           "ticks": "",
           "title": {
            "standoff": 15
           },
           "zerolinecolor": "#EBF0F8",
           "zerolinewidth": 2
          },
          "yaxis": {
           "automargin": true,
           "gridcolor": "#EBF0F8",
           "linecolor": "#EBF0F8",
           "ticks": "",
           "title": {
            "standoff": 15
           },
           "zerolinecolor": "#EBF0F8",
           "zerolinewidth": 2
          }
         }
        },
        "title": {
         "text": "Education Level Churn Overview"
        },
        "width": 850,
        "xaxis": {
         "anchor": "y",
         "domain": [
          0,
          0.45
         ]
        },
        "xaxis2": {
         "anchor": "y2",
         "domain": [
          0.55,
          1
         ]
        },
        "yaxis": {
         "anchor": "x",
         "domain": [
          0,
          1
         ],
         "title": {
          "text": "Churners"
         }
        },
        "yaxis2": {
         "anchor": "x2",
         "domain": [
          0,
          1
         ],
         "title": {
          "text": "Churn Rate (%)"
         }
        }
       }
      }
     },
     "metadata": {},
     "output_type": "display_data"
    }
   ],
   "source": [
    "# ...existing code...\n",
    "fig = make_subplots(rows=1, cols=2,\n",
    "                    subplot_titles=(\"Churners by Education Level (count & share)\", \"Churn Rate by Education Level (within-group %)\"))\n",
    "\n",
    "fig.add_trace(\n",
    "    go.Bar(\n",
    "        x=pivot_edu.index,\n",
    "        y=pivot_edu['churners'],\n",
    "        text=pivot_edu['churners'].map(\"{:,}\".format),\n",
    "        customdata=pivot_edu[['pct_of_total_churners']].values,\n",
    "        hovertemplate=\"<b>%{x}</b><br>Churners: %{y:,}<br>Share of total churners: %{customdata[0]}%\"\n",
    "    ),\n",
    "    row=1, col=1\n",
    ")\n",
    "\n",
    "fig.add_trace(\n",
    "    go.Bar(\n",
    "        x=pivot_edu.index,\n",
    "        y=pivot_edu['churn_rate'],\n",
    "        text=pivot_edu['churn_rate'].map(lambda v: f\"{v:.2f}%\"),\n",
    "        hovertemplate=\"<b>%{x}</b><br>Churn Rate: %{y:.2f}%\"\n",
    "    ),\n",
    "    row=1, col=2\n",
    ")\n",
    "\n",
    "baseline = len(churned_df) / len(df) * 100\n",
    "fig.add_hline(y=baseline, line=dict(color=\"red\", dash=\"dash\"), row=1, col=2)\n",
    "fig.add_annotation(x=0.46, y=baseline, xref='x2 domain', yref='y2',\n",
    "                   text=f\"Overall churn: {baseline:.2f}%\", showarrow=False, font=dict(color=\"red\"), xanchor='right', yshift=18)\n",
    "\n",
    "fig.update_layout(template=\"plotly_white\", title_text=\"Education Level Churn Overview\", width=850, height=500, showlegend=False)\n",
    "fig.update_yaxes(title_text=\"Churners\", row=1, col=1)\n",
    "fig.update_yaxes(title_text=\"Churn Rate (%)\", row=1, col=2)\n",
    "fig.show()\n",
    "# ...existing code..."
   ]
  },
  {
   "cell_type": "markdown",
   "id": "be248196",
   "metadata": {},
   "source": [
    "## income category churn analysis"
   ]
  },
  {
   "cell_type": "code",
   "execution_count": 43,
   "id": "76eb1fae",
   "metadata": {},
   "outputs": [
    {
     "data": {
      "application/vnd.microsoft.datawrangler.viewer.v0+json": {
       "columns": [
        {
         "name": "Income_Category",
         "rawType": "object",
         "type": "string"
        },
        {
         "name": "churners",
         "rawType": "int64",
         "type": "integer"
        },
        {
         "name": "total_in_group",
         "rawType": "int64",
         "type": "integer"
        },
        {
         "name": "churn_rate",
         "rawType": "float64",
         "type": "float"
        },
        {
         "name": "pct_of_total_churners",
         "rawType": "float64",
         "type": "float"
        }
       ],
       "ref": "ce5f740a-119c-4d41-aec0-c1bba528f2d4",
       "rows": [
        [
         "Less than $40K",
         "612",
         "3561",
         "17.19",
         "37.62"
        ],
        [
         "$40K - $60K",
         "271",
         "1790",
         "15.14",
         "16.66"
        ],
        [
         "$80K - $120K",
         "242",
         "1535",
         "15.77",
         "14.87"
        ],
        [
         "$60K - $80K",
         "189",
         "1402",
         "13.48",
         "11.62"
        ],
        [
         "Unknown",
         "187",
         "1112",
         "16.82",
         "11.49"
        ],
        [
         "$120K +",
         "126",
         "727",
         "17.33",
         "7.74"
        ]
       ],
       "shape": {
        "columns": 4,
        "rows": 6
       }
      },
      "text/html": [
       "<div>\n",
       "<style scoped>\n",
       "    .dataframe tbody tr th:only-of-type {\n",
       "        vertical-align: middle;\n",
       "    }\n",
       "\n",
       "    .dataframe tbody tr th {\n",
       "        vertical-align: top;\n",
       "    }\n",
       "\n",
       "    .dataframe thead th {\n",
       "        text-align: right;\n",
       "    }\n",
       "</style>\n",
       "<table border=\"1\" class=\"dataframe\">\n",
       "  <thead>\n",
       "    <tr style=\"text-align: right;\">\n",
       "      <th></th>\n",
       "      <th>churners</th>\n",
       "      <th>total_in_group</th>\n",
       "      <th>churn_rate</th>\n",
       "      <th>pct_of_total_churners</th>\n",
       "    </tr>\n",
       "    <tr>\n",
       "      <th>Income_Category</th>\n",
       "      <th></th>\n",
       "      <th></th>\n",
       "      <th></th>\n",
       "      <th></th>\n",
       "    </tr>\n",
       "  </thead>\n",
       "  <tbody>\n",
       "    <tr>\n",
       "      <th>Less than $40K</th>\n",
       "      <td>612</td>\n",
       "      <td>3561</td>\n",
       "      <td>17.19</td>\n",
       "      <td>37.62</td>\n",
       "    </tr>\n",
       "    <tr>\n",
       "      <th>$40K - $60K</th>\n",
       "      <td>271</td>\n",
       "      <td>1790</td>\n",
       "      <td>15.14</td>\n",
       "      <td>16.66</td>\n",
       "    </tr>\n",
       "    <tr>\n",
       "      <th>$80K - $120K</th>\n",
       "      <td>242</td>\n",
       "      <td>1535</td>\n",
       "      <td>15.77</td>\n",
       "      <td>14.87</td>\n",
       "    </tr>\n",
       "    <tr>\n",
       "      <th>$60K - $80K</th>\n",
       "      <td>189</td>\n",
       "      <td>1402</td>\n",
       "      <td>13.48</td>\n",
       "      <td>11.62</td>\n",
       "    </tr>\n",
       "    <tr>\n",
       "      <th>Unknown</th>\n",
       "      <td>187</td>\n",
       "      <td>1112</td>\n",
       "      <td>16.82</td>\n",
       "      <td>11.49</td>\n",
       "    </tr>\n",
       "    <tr>\n",
       "      <th>$120K +</th>\n",
       "      <td>126</td>\n",
       "      <td>727</td>\n",
       "      <td>17.33</td>\n",
       "      <td>7.74</td>\n",
       "    </tr>\n",
       "  </tbody>\n",
       "</table>\n",
       "</div>"
      ],
      "text/plain": [
       "                 churners  total_in_group  churn_rate  pct_of_total_churners\n",
       "Income_Category                                                             \n",
       "Less than $40K        612            3561       17.19                  37.62\n",
       "$40K - $60K           271            1790       15.14                  16.66\n",
       "$80K - $120K          242            1535       15.77                  14.87\n",
       "$60K - $80K           189            1402       13.48                  11.62\n",
       "Unknown               187            1112       16.82                  11.49\n",
       "$120K +               126             727       17.33                   7.74"
      ]
     },
     "execution_count": 43,
     "metadata": {},
     "output_type": "execute_result"
    }
   ],
   "source": [
    "\n",
    "\n",
    "pivot_income = pd.pivot_table(\n",
    "    churned_df,\n",
    "    index='Income_Category',\n",
    "    values='CLIENTNUM',\n",
    "    aggfunc='count'\n",
    ").rename(columns={'CLIENTNUM': 'churners'})\n",
    "\n",
    "group_totals = df.groupby('Income_Category')['CLIENTNUM'].count()\n",
    "pivot_income['total_in_group'] = group_totals\n",
    "pivot_income['churn_rate'] = (pivot_income['churners'] / pivot_income['total_in_group'] * 100).round(2)\n",
    "pivot_income['pct_of_total_churners'] = (pivot_income['churners'] / total_churners * 100).round(2)\n",
    "\n",
    "pivot_income = pivot_income.sort_values('churners', ascending=False)\n",
    "pivot_income"
   ]
  },
  {
   "cell_type": "code",
   "execution_count": 45,
   "id": "e89cb815",
   "metadata": {},
   "outputs": [
    {
     "data": {
      "image/png": "[encoded data removed]",
      "text/plain": [
       "<Figure size 1600x600 with 2 Axes>"
      ]
     },
     "metadata": {},
     "output_type": "display_data"
    }
   ],
   "source": [
    "\n",
    "# ...existing code...\n",
    "fig, axes = plt.subplots(1, 2, figsize=(16, 6), constrained_layout=True)\n",
    "sns.set_style(\"whitegrid\")\n",
    "data_inc = pivot_income.reset_index()\n",
    "\n",
    "# Left: churners counts\n",
    "ax = axes[0]\n",
    "sns.barplot(x='Income_Category', y='churners', data=data_inc, palette='muted', ax=ax)\n",
    "ax.set_title(\"Churners by Income Category — Counts\", fontsize=14)\n",
    "ax.set_xlabel(\"Income Category\", fontsize=12)\n",
    "ax.set_ylabel(\"Number of Churners\", fontsize=12)\n",
    "ax.tick_params(axis='x', rotation=25, labelsize=11)\n",
    "ax.tick_params(axis='y', labelsize=11)\n",
    "for i, row in data_inc.iterrows():\n",
    "    ax.text(i, row['churners'] + max(data_inc['churners']) * 0.01,\n",
    "            f\"{int(row['churners']):,}\", ha='center', va='bottom', fontsize=15)\n",
    "\n",
    "# Right: churn rate within group\n",
    "ax = axes[1]\n",
    "sns.barplot(x='Income_Category', y='churn_rate', data=data_inc, palette='bright', ax=ax)\n",
    "ax.set_title(\"Churn Rate by Income Category (within-group %)\", fontsize=14)\n",
    "ax.set_ylabel(\"Churn Rate (%)\", fontsize=12)\n",
    "ax.set_xlabel(\"Income Category\", fontsize=12)\n",
    "ax.tick_params(axis='x', rotation=25, labelsize=11)\n",
    "ax.tick_params(axis='y', labelsize=11)\n",
    "baseline = len(churned_df) / len(df) * 100\n",
    "ax.axhline(baseline, color='red', linestyle='--', linewidth=1)\n",
    "ax.text(-0.4, baseline + 0.6, f\"Overall churn: {baseline:.2f}%\", color='red', fontsize=12)\n",
    "for i, row in data_inc.iterrows():\n",
    "    ax.text(i, row['churn_rate'] + 0.4, f\"{row['churn_rate']:.2f}%\", ha='center', va='bottom', fontsize=15)\n",
    "\n",
    "plt.show()\n",
    "# ...existing code..."
   ]
  },
  {
   "cell_type": "code",
   "execution_count": 49,
   "id": "7f29c76f",
   "metadata": {},
   "outputs": [
    {
     "data": {
      "application/vnd.plotly.v1+json": {
       "config": {
        "plotlyServerURL": "https://plot.ly"
       },
       "data": [
        {
         "customdata": [
          [
           37.62
          ],
          [
           16.66
          ],
          [
           14.87
          ],
          [
           11.62
          ],
          [
           11.49
          ],
          [
           7.74
          ]
         ],
         "hovertemplate": "<b>%{x}</b><br>Churners: %{y:,}<br>Share of total churners: %{customdata[0]}%",
         "text": [
          "612",
          "271",
          "242",
          "189",
          "187",
          "126"
         ],
         "type": "bar",
         "x": [
          "Less than $40K",
          "$40K - $60K",
          "$80K - $120K",
          "$60K - $80K",
          "Unknown",
          "$120K +"
         ],
         "xaxis": "x",
         "y": [
          612,
          271,
          242,
          189,
          187,
          126
         ],
         "yaxis": "y"
        },
        {
         "hovertemplate": "<b>%{x}</b><br>Churn Rate: %{y:.2f}%",
         "type": "bar",
         "x": [
          "Less than $40K",
          "$40K - $60K",
          "$80K - $120K",
          "$60K - $80K",
          "Unknown",
          "$120K +"
         ],
         "xaxis": "x2",
         "y": [
          17.19,
          15.14,
          15.77,
          13.48,
          16.82,
          17.33
         ],
         "yaxis": "y2"
        }
       ],
       "layout": {
        "annotations": [
         {
          "font": {
           "size": 16
          },
          "showarrow": false,
          "text": "Churners by Income Category (count & share)",
          "x": 0.225,
          "xanchor": "center",
          "xref": "paper",
          "y": 1,
          "yanchor": "bottom",
          "yref": "paper"
         },
         {
          "font": {
           "size": 16
          },
          "showarrow": false,
          "text": "Churn Rate by Income Category (within-group %)",
          "x": 0.775,
          "xanchor": "center",
          "xref": "paper",
          "y": 1,
          "yanchor": "bottom",
          "yref": "paper"
         },
         {
          "font": {
           "color": "blue",
           "size": 12
          },
          "showarrow": false,
          "text": "Overall churn: 16.07%",
          "x": 0.46,
          "xanchor": "right",
          "xref": "x2 domain",
          "y": 16.065962279055988,
          "yref": "y2",
          "yshift": -12
         }
        ],
        "height": 450,
        "shapes": [
         {
          "line": {
           "color": "blue",
           "dash": "dash"
          },
          "type": "line",
          "x0": 0,
          "x1": 1,
          "xref": "x2 domain",
          "y0": 16.065962279055988,
          "y1": 16.065962279055988,
          "yref": "y2"
         }
        ],
        "showlegend": false,
        "template": {
         "data": {
          "bar": [
           {
            "error_x": {
             "color": "#2a3f5f"
            },
            "error_y": {
             "color": "#2a3f5f"
            },
            "marker": {
             "line": {
              "color": "white",
              "width": 0.5
             },
             "pattern": {
              "fillmode": "overlay",
              "size": 10,
              "solidity": 0.2
             }
            },
            "type": "bar"
           }
          ],
          "barpolar": [
           {
            "marker": {
             "line": {
              "color": "white",
              "width": 0.5
             },
             "pattern": {
              "fillmode": "overlay",
              "size": 10,
              "solidity": 0.2
             }
            },
            "type": "barpolar"
           }
          ],
          "carpet": [
           {
            "aaxis": {
             "endlinecolor": "#2a3f5f",
             "gridcolor": "#C8D4E3",
             "linecolor": "#C8D4E3",
             "minorgridcolor": "#C8D4E3",
             "startlinecolor": "#2a3f5f"
            },
            "baxis": {
             "endlinecolor": "#2a3f5f",
             "gridcolor": "#C8D4E3",
             "linecolor": "#C8D4E3",
             "minorgridcolor": "#C8D4E3",
             "startlinecolor": "#2a3f5f"
            },
            "type": "carpet"
           }
          ],
          "choropleth": [
           {
            "colorbar": {
             "outlinewidth": 0,
             "ticks": ""
            },
            "type": "choropleth"
           }
          ],
          "contour": [
           {
            "colorbar": {
             "outlinewidth": 0,
             "ticks": ""
            },
            "colorscale": [
             [
              0,
              "#0d0887"
             ],
             [
              0.1111111111111111,
              "#46039f"
             ],
             [
              0.2222222222222222,
              "#7201a8"
             ],
             [
              0.3333333333333333,
              "#9c179e"
             ],
             [
              0.4444444444444444,
              "#bd3786"
             ],
             [
              0.5555555555555556,
              "#d8576b"
             ],
             [
              0.6666666666666666,
              "#ed7953"
             ],
             [
              0.7777777777777778,
              "#fb9f3a"
             ],
             [
              0.8888888888888888,
              "#fdca26"
             ],
             [
              1,
              "#f0f921"
             ]
            ],
            "type": "contour"
           }
          ],
          "contourcarpet": [
           {
            "colorbar": {
             "outlinewidth": 0,
             "ticks": ""
            },
            "type": "contourcarpet"
           }
          ],
          "heatmap": [
           {
            "colorbar": {
             "outlinewidth": 0,
             "ticks": ""
            },
            "colorscale": [
             [
              0,
              "#0d0887"
             ],
             [
              0.1111111111111111,
              "#46039f"
             ],
             [
              0.2222222222222222,
              "#7201a8"
             ],
             [
              0.3333333333333333,
              "#9c179e"
             ],
             [
              0.4444444444444444,
              "#bd3786"
             ],
             [
              0.5555555555555556,
              "#d8576b"
             ],
             [
              0.6666666666666666,
              "#ed7953"
             ],
             [
              0.7777777777777778,
              "#fb9f3a"
             ],
             [
              0.8888888888888888,
              "#fdca26"
             ],
             [
              1,
              "#f0f921"
             ]
            ],
            "type": "heatmap"
           }
          ],
          "heatmapgl": [
           {
            "colorbar": {
             "outlinewidth": 0,
             "ticks": ""
            },
            "colorscale": [
             [
              0,
              "#0d0887"
             ],
             [
              0.1111111111111111,
              "#46039f"
             ],
             [
              0.2222222222222222,
              "#7201a8"
             ],
             [
              0.3333333333333333,
              "#9c179e"
             ],
             [
              0.4444444444444444,
              "#bd3786"
             ],
             [
              0.5555555555555556,
              "#d8576b"
             ],
             [
              0.6666666666666666,
              "#ed7953"
             ],
             [
              0.7777777777777778,
              "#fb9f3a"
             ],
             [
              0.8888888888888888,
              "#fdca26"
             ],
             [
              1,
              "#f0f921"
             ]
            ],
            "type": "heatmapgl"
           }
          ],
          "histogram": [
           {
            "marker": {
             "pattern": {
              "fillmode": "overlay",
              "size": 10,
              "solidity": 0.2
             }
            },
            "type": "histogram"
           }
          ],
          "histogram2d": [
           {
            "colorbar": {
             "outlinewidth": 0,
             "ticks": ""
            },
            "colorscale": [
             [
              0,
              "#0d0887"
             ],
             [
              0.1111111111111111,
              "#46039f"
             ],
             [
              0.2222222222222222,
              "#7201a8"
             ],
             [
              0.3333333333333333,
              "#9c179e"
             ],
             [
              0.4444444444444444,
              "#bd3786"
             ],
             [
              0.5555555555555556,
              "#d8576b"
             ],
             [
              0.6666666666666666,
              "#ed7953"
             ],
             [
              0.7777777777777778,
              "#fb9f3a"
             ],
             [
              0.8888888888888888,
              "#fdca26"
             ],
             [
              1,
              "#f0f921"
             ]
            ],
            "type": "histogram2d"
           }
          ],
          "histogram2dcontour": [
           {
            "colorbar": {
             "outlinewidth": 0,
             "ticks": ""
            },
            "colorscale": [
             [
              0,
              "#0d0887"
             ],
             [
              0.1111111111111111,
              "#46039f"
             ],
             [
              0.2222222222222222,
              "#7201a8"
             ],
             [
              0.3333333333333333,
              "#9c179e"
             ],
             [
              0.4444444444444444,
              "#bd3786"
             ],
             [
              0.5555555555555556,
              "#d8576b"
             ],
             [
              0.6666666666666666,
              "#ed7953"
             ],
             [
              0.7777777777777778,
              "#fb9f3a"
             ],
             [
              0.8888888888888888,
              "#fdca26"
             ],
             [
              1,
              "#f0f921"
             ]
            ],
            "type": "histogram2dcontour"
           }
          ],
          "mesh3d": [
           {
            "colorbar": {
             "outlinewidth": 0,
             "ticks": ""
            },
            "type": "mesh3d"
           }
          ],
          "parcoords": [
           {
            "line": {
             "colorbar": {
              "outlinewidth": 0,
              "ticks": ""
             }
            },
            "type": "parcoords"
           }
          ],
          "pie": [
           {
            "automargin": true,
            "type": "pie"
           }
          ],
          "scatter": [
           {
            "marker": {
             "colorbar": {
              "outlinewidth": 0,
              "ticks": ""
             }
            },
            "type": "scatter"
           }
          ],
          "scatter3d": [
           {
            "line": {
             "colorbar": {
              "outlinewidth": 0,
              "ticks": ""
             }
            },
            "marker": {
             "colorbar": {
              "outlinewidth": 0,
              "ticks": ""
             }
            },
            "type": "scatter3d"
           }
          ],
          "scattercarpet": [
           {
            "marker": {
             "colorbar": {
              "outlinewidth": 0,
              "ticks": ""
             }
            },
            "type": "scattercarpet"
           }
          ],
          "scattergeo": [
           {
            "marker": {
             "colorbar": {
              "outlinewidth": 0,
              "ticks": ""
             }
            },
            "type": "scattergeo"
           }
          ],
          "scattergl": [
           {
            "marker": {
             "colorbar": {
              "outlinewidth": 0,
              "ticks": ""
             }
            },
            "type": "scattergl"
           }
          ],
          "scattermapbox": [
           {
            "marker": {
             "colorbar": {
              "outlinewidth": 0,
              "ticks": ""
             }
            },
            "type": "scattermapbox"
           }
          ],
          "scatterpolar": [
           {
            "marker": {
             "colorbar": {
              "outlinewidth": 0,
              "ticks": ""
             }
            },
            "type": "scatterpolar"
           }
          ],
          "scatterpolargl": [
           {
            "marker": {
             "colorbar": {
              "outlinewidth": 0,
              "ticks": ""
             }
            },
            "type": "scatterpolargl"
           }
          ],
          "scatterternary": [
           {
            "marker": {
             "colorbar": {
              "outlinewidth": 0,
              "ticks": ""
             }
            },
            "type": "scatterternary"
           }
          ],
          "surface": [
           {
            "colorbar": {
             "outlinewidth": 0,
             "ticks": ""
            },
            "colorscale": [
             [
              0,
              "#0d0887"
             ],
             [
              0.1111111111111111,
              "#46039f"
             ],
             [
              0.2222222222222222,
              "#7201a8"
             ],
             [
              0.3333333333333333,
              "#9c179e"
             ],
             [
              0.4444444444444444,
              "#bd3786"
             ],
             [
              0.5555555555555556,
              "#d8576b"
             ],
             [
              0.6666666666666666,
              "#ed7953"
             ],
             [
              0.7777777777777778,
              "#fb9f3a"
             ],
             [
              0.8888888888888888,
              "#fdca26"
             ],
             [
              1,
              "#f0f921"
             ]
            ],
            "type": "surface"
           }
          ],
          "table": [
           {
            "cells": {
             "fill": {
              "color": "#EBF0F8"
             },
             "line": {
              "color": "white"
             }
            },
            "header": {
             "fill": {
              "color": "#C8D4E3"
             },
             "line": {
              "color": "white"
             }
            },
            "type": "table"
           }
          ]
         },
         "layout": {
          "annotationdefaults": {
           "arrowcolor": "#2a3f5f",
           "arrowhead": 0,
           "arrowwidth": 1
          },
          "autotypenumbers": "strict",
          "coloraxis": {
           "colorbar": {
            "outlinewidth": 0,
            "ticks": ""
           }
          },
          "colorscale": {
           "diverging": [
            [
             0,
             "#8e0152"
            ],
            [
             0.1,
             "#c51b7d"
            ],
            [
             0.2,
             "#de77ae"
            ],
            [
             0.3,
             "#f1b6da"
            ],
            [
             0.4,
             "#fde0ef"
            ],
            [
             0.5,
             "#f7f7f7"
            ],
            [
             0.6,
             "#e6f5d0"
            ],
            [
             0.7,
             "#b8e186"
            ],
            [
             0.8,
             "#7fbc41"
            ],
            [
             0.9,
             "#4d9221"
            ],
            [
             1,
             "#276419"
            ]
           ],
           "sequential": [
            [
             0,
             "#0d0887"
            ],
            [
             0.1111111111111111,
             "#46039f"
            ],
            [
             0.2222222222222222,
             "#7201a8"
            ],
            [
             0.3333333333333333,
             "#9c179e"
            ],
            [
             0.4444444444444444,
             "#bd3786"
            ],
            [
             0.5555555555555556,
             "#d8576b"
            ],
            [
             0.6666666666666666,
             "#ed7953"
            ],
            [
             0.7777777777777778,
             "#fb9f3a"
            ],
            [
             0.8888888888888888,
             "#fdca26"
            ],
            [
             1,
             "#f0f921"
            ]
           ],
           "sequentialminus": [
            [
             0,
             "#0d0887"
            ],
            [
             0.1111111111111111,
             "#46039f"
            ],
            [
             0.2222222222222222,
             "#7201a8"
            ],
            [
             0.3333333333333333,
             "#9c179e"
            ],
            [
             0.4444444444444444,
             "#bd3786"
            ],
            [
             0.5555555555555556,
             "#d8576b"
            ],
            [
             0.6666666666666666,
             "#ed7953"
            ],
            [
             0.7777777777777778,
             "#fb9f3a"
            ],
            [
             0.8888888888888888,
             "#fdca26"
            ],
            [
             1,
             "#f0f921"
            ]
           ]
          },
          "colorway": [
           "#636efa",
           "#EF553B",
           "#00cc96",
           "#ab63fa",
           "#FFA15A",
           "#19d3f3",
           "#FF6692",
           "#B6E880",
           "#FF97FF",
           "#FECB52"
          ],
          "font": {
           "color": "#2a3f5f"
          },
          "geo": {
           "bgcolor": "white",
           "lakecolor": "white",
           "landcolor": "white",
           "showlakes": true,
           "showland": true,
           "subunitcolor": "#C8D4E3"
          },
          "hoverlabel": {
           "align": "left"
          },
          "hovermode": "closest",
          "mapbox": {
           "style": "light"
          },
          "paper_bgcolor": "white",
          "plot_bgcolor": "white",
          "polar": {
           "angularaxis": {
            "gridcolor": "#EBF0F8",
            "linecolor": "#EBF0F8",
            "ticks": ""
           },
           "bgcolor": "white",
           "radialaxis": {
            "gridcolor": "#EBF0F8",
            "linecolor": "#EBF0F8",
            "ticks": ""
           }
          },
          "scene": {
           "xaxis": {
            "backgroundcolor": "white",
            "gridcolor": "#DFE8F3",
            "gridwidth": 2,
            "linecolor": "#EBF0F8",
            "showbackground": true,
            "ticks": "",
            "zerolinecolor": "#EBF0F8"
           },
           "yaxis": {
            "backgroundcolor": "white",
            "gridcolor": "#DFE8F3",
            "gridwidth": 2,
            "linecolor": "#EBF0F8",
            "showbackground": true,
            "ticks": "",
            "zerolinecolor": "#EBF0F8"
           },
           "zaxis": {
            "backgroundcolor": "white",
            "gridcolor": "#DFE8F3",
            "gridwidth": 2,
            "linecolor": "#EBF0F8",
            "showbackground": true,
            "ticks": "",
            "zerolinecolor": "#EBF0F8"
           }
          },
          "shapedefaults": {
           "line": {
            "color": "#2a3f5f"
           }
          },
          "ternary": {
           "aaxis": {
            "gridcolor": "#DFE8F3",
            "linecolor": "#A2B1C6",
            "ticks": ""
           },
           "baxis": {
            "gridcolor": "#DFE8F3",
            "linecolor": "#A2B1C6",
            "ticks": ""
           },
           "bgcolor": "white",
           "caxis": {
            "gridcolor": "#DFE8F3",
            "linecolor": "#A2B1C6",
            "ticks": ""
           }
          },
          "title": {
           "x": 0.05
          },
          "xaxis": {
           "automargin": true,
           "gridcolor": "#EBF0F8",
           "linecolor": "#EBF0F8",
           "ticks": "",
           "title": {
            "standoff": 15
           },
           "zerolinecolor": "#EBF0F8",
           "zerolinewidth": 2
          },
          "yaxis": {
           "automargin": true,
           "gridcolor": "#EBF0F8",
           "linecolor": "#EBF0F8",
           "ticks": "",
           "title": {
            "standoff": 15
           },
           "zerolinecolor": "#EBF0F8",
           "zerolinewidth": 2
          }
         }
        },
        "title": {
         "font": {
          "size": 16
         },
         "text": "Income Category Churn Overview"
        },
        "width": 850,
        "xaxis": {
         "anchor": "y",
         "domain": [
          0,
          0.45
         ],
         "tickfont": {
          "size": 11
         }
        },
        "xaxis2": {
         "anchor": "y2",
         "domain": [
          0.55,
          1
         ],
         "tickfont": {
          "size": 11
         }
        },
        "yaxis": {
         "anchor": "x",
         "domain": [
          0,
          1
         ],
         "tickfont": {
          "size": 11
         },
         "title": {
          "font": {
           "size": 12
          },
          "text": "Churners"
         }
        },
        "yaxis2": {
         "anchor": "x2",
         "domain": [
          0,
          1
         ],
         "tickfont": {
          "size": 11
         },
         "title": {
          "font": {
           "size": 12
          },
          "text": "Churn Rate (%)"
         }
        }
       }
      }
     },
     "metadata": {},
     "output_type": "display_data"
    }
   ],
   "source": [
    "\n",
    "\n",
    "fig = make_subplots(rows=1, cols=2,\n",
    "                    subplot_titles=(\"Churners by Income Category (count & share)\",\n",
    "                                    \"Churn Rate by Income Category (within-group %)\"))\n",
    "\n",
    "# left: counts with pct_of_total_churners\n",
    "fig.add_trace(\n",
    "    go.Bar(\n",
    "        x=pivot_income.index,\n",
    "        y=pivot_income['churners'],\n",
    "        text=pivot_income['churners'].map(\"{:,}\".format),\n",
    "        customdata=pivot_income[['pct_of_total_churners']].values,\n",
    "        hovertemplate=\"<b>%{x}</b><br>Churners: %{y:,}<br>Share of total churners: %{customdata[0]}%\"\n",
    "    ),\n",
    "    row=1, col=1\n",
    ")\n",
    "\n",
    "# right: churn rate (percent)\n",
    "fig.add_trace(\n",
    "    go.Bar(\n",
    "        x=pivot_income.index,\n",
    "        y=pivot_income['churn_rate'],\n",
    "        #text=pivot_income['churn_rate'].map(lambda v: f\"{v:.2f}%\"),\n",
    "        hovertemplate=\"<b>%{x}</b><br>Churn Rate: %{y:.2f}%\"\n",
    "    ),\n",
    "    row=1, col=2\n",
    ")\n",
    "\n",
    "baseline = len(churned_df) / len(df) * 100\n",
    "fig.add_hline(y=baseline, line=dict(color=\"blue\", dash=\"dash\"), row=1, col=2)\n",
    "fig.add_annotation(x=0.46, y=baseline, xref='x2 domain', yref='y2',\n",
    "                   text=f\"Overall churn: {baseline:.2f}%\", showarrow=False,\n",
    "                   font=dict(color=\"blue\", size=12), xanchor='right', yshift=-12)\n",
    "\n",
    "fig.update_layout(template=\"plotly_white\",\n",
    "                  title_text=\"Income Category Churn Overview\",\n",
    "                  title_font=dict(size=16),\n",
    "                  width=850, height=450, showlegend=False)\n",
    "\n",
    "fig.update_xaxes(tickfont=dict(size=11))\n",
    "fig.update_yaxes(title_text=\"Churners\", row=1, col=1, title_font=dict(size=12), tickfont=dict(size=11))\n",
    "fig.update_yaxes(title_text=\"Churn Rate (%)\", row=1, col=2, title_font=dict(size=12), tickfont=dict(size=11))\n",
    "\n",
    "fig.show()\n",
    "# ...existing code..."
   ]
  },
  {
   "cell_type": "markdown",
   "id": "745f1f93",
   "metadata": {},
   "source": [
    "## gender-level churn analysis"
   ]
  },
  {
   "cell_type": "code",
   "execution_count": 25,
   "id": "eccb0399",
   "metadata": {
    "vscode": {
     "languageId": "ruby"
    }
   },
   "outputs": [
    {
     "data": {
      "application/vnd.microsoft.datawrangler.viewer.v0+json": {
       "columns": [
        {
         "name": "Gender",
         "rawType": "object",
         "type": "string"
        },
        {
         "name": "churners",
         "rawType": "int64",
         "type": "integer"
        },
        {
         "name": "total_in_group",
         "rawType": "int64",
         "type": "integer"
        },
        {
         "name": "churn_rate",
         "rawType": "float64",
         "type": "float"
        },
        {
         "name": "pct_of_total_churners",
         "rawType": "float64",
         "type": "float"
        }
       ],
       "ref": "e9458bc4-fcf4-405e-b6e3-32e02d7d71d3",
       "rows": [
        [
         "F",
         "930",
         "5358",
         "17.36",
         "57.16"
        ],
        [
         "M",
         "697",
         "4769",
         "14.62",
         "42.84"
        ]
       ],
       "shape": {
        "columns": 4,
        "rows": 2
       }
      },
      "text/html": [
       "<div>\n",
       "<style scoped>\n",
       "    .dataframe tbody tr th:only-of-type {\n",
       "        vertical-align: middle;\n",
       "    }\n",
       "\n",
       "    .dataframe tbody tr th {\n",
       "        vertical-align: top;\n",
       "    }\n",
       "\n",
       "    .dataframe thead th {\n",
       "        text-align: right;\n",
       "    }\n",
       "</style>\n",
       "<table border=\"1\" class=\"dataframe\">\n",
       "  <thead>\n",
       "    <tr style=\"text-align: right;\">\n",
       "      <th></th>\n",
       "      <th>churners</th>\n",
       "      <th>total_in_group</th>\n",
       "      <th>churn_rate</th>\n",
       "      <th>pct_of_total_churners</th>\n",
       "    </tr>\n",
       "    <tr>\n",
       "      <th>Gender</th>\n",
       "      <th></th>\n",
       "      <th></th>\n",
       "      <th></th>\n",
       "      <th></th>\n",
       "    </tr>\n",
       "  </thead>\n",
       "  <tbody>\n",
       "    <tr>\n",
       "      <th>F</th>\n",
       "      <td>930</td>\n",
       "      <td>5358</td>\n",
       "      <td>17.36</td>\n",
       "      <td>57.16</td>\n",
       "    </tr>\n",
       "    <tr>\n",
       "      <th>M</th>\n",
       "      <td>697</td>\n",
       "      <td>4769</td>\n",
       "      <td>14.62</td>\n",
       "      <td>42.84</td>\n",
       "    </tr>\n",
       "  </tbody>\n",
       "</table>\n",
       "</div>"
      ],
      "text/plain": [
       "        churners  total_in_group  churn_rate  pct_of_total_churners\n",
       "Gender                                                             \n",
       "F            930            5358       17.36                  57.16\n",
       "M            697            4769       14.62                  42.84"
      ]
     },
     "execution_count": 25,
     "metadata": {},
     "output_type": "execute_result"
    }
   ],
   "source": [
    "# Pivot table: Gender as rows, number of churners and percentage of total churners as values\n",
    "pivot_gender = pd.pivot_table(\n",
    "    df[df['Attrition_Flag'] == 'Attrited Customer'],\n",
    "    index='Gender',\n",
    "    values='CLIENTNUM',\n",
    "    aggfunc='count'\n",
    ").rename(columns={'CLIENTNUM': 'churners'})\n",
    "# add total per gender and churn rate (percentage of that gender who churned)\n",
    "group_totals = df.groupby('Gender')['CLIENTNUM'].count()\n",
    "pivot_gender['total_in_group'] = group_totals\n",
    "pivot_gender['churn_rate'] = (pivot_gender['churners'] / pivot_gender['total_in_group'] * 100).round(2)\n",
    "\n",
    "pivot_gender['pct_of_total_churners'] = (pivot_gender['churners'] / total_churners * 100).round(2)\n",
    "\n",
    "# Sort for readability\n",
    "pivot_gender = pivot_gender.sort_values('churners', ascending=False)\n",
    "\n",
    "\n",
    "pivot_gender"
   ]
  },
  {
   "cell_type": "code",
   "execution_count": 35,
   "id": "142cf208",
   "metadata": {},
   "outputs": [
    {
     "data": {
      "image/png": "[encoded data removed]",
      "text/plain": [
       "<Figure size 1600x600 with 2 Axes>"
      ]
     },
     "metadata": {},
     "output_type": "display_data"
    }
   ],
   "source": [
    "# Seaborn + Matplotlib figure (put this in a new cell)\n",
    "# Uses existing `pivot_gender` DataFrame\n",
    "fig, axes = plt.subplots(1, 2, figsize=(16, 6), sharey=False, constrained_layout=True)\n",
    "sns.set_style(\"whitegrid\")\n",
    "palette = sns.color_palette(\"tab10\")\n",
    "\n",
    "# Left: churners (absolute counts)\n",
    "ax = axes[0]\n",
    "data = pivot_gender.reset_index()\n",
    "sns.barplot(x='Gender', y='churners', data=data, palette=palette, ax=ax)\n",
    "for i, row in data.iterrows():\n",
    "    ax.text(i, row['churners'] + max(data['churners']) * 0.01,\n",
    "            f\"{row['churners']:,}\",\n",
    "            ha='center', va='bottom', fontsize=15)\n",
    "ax.set_title(\"Churners by Gender — Counts & Share of Total Churners\", fontsize=14)\n",
    "ax.set_ylabel(\"Number of Churners\")\n",
    "ax.set_xlabel(\"Gender\")\n",
    "\n",
    "# Right: churn rate (percentage within group)\n",
    "ax = axes[1]\n",
    "sns.barplot(x='Gender', y='churn_rate', data=data, palette=palette, ax=ax)\n",
    "for i, row in data.iterrows():\n",
    "    ax.text(i, row['churn_rate'] + 0.4,\n",
    "            f\"{row['churn_rate']:.2f}%\",\n",
    "            ha='center', va='bottom', fontsize=15)\n",
    "# baseline churn line\n",
    "baseline = (df['Attrition_Flag'] == 'Attrited Customer').mean() * 100\n",
    "ax.axhline(baseline, color='white', linestyle='--', linewidth=1)\n",
    "ax.text(-0.4, baseline + 0.4, f\"Overall churn: {baseline:.2f}%\", color='white', fontsize=15)\n",
    "ax.set_title(\"Churn Rate by Gender (within-group %)\", fontsize=14)\n",
    "ax.set_ylabel(\"Churn Rate (%)\")\n",
    "ax.set_xlabel(\"Gender\")\n",
    "\n",
    "#plt.suptitle(\"Gender-Level Churn: Counts vs Within-Group Rate\", fontsize=16, y=1.02)\n",
    "plt.show()\n",
    "\n"
   ]
  },
  {
   "cell_type": "code",
   "execution_count": 41,
   "id": "d49d5ecc",
   "metadata": {},
   "outputs": [
    {
     "data": {
      "application/vnd.plotly.v1+json": {
       "config": {
        "plotlyServerURL": "https://plot.ly"
       },
       "data": [
        {
         "customdata": [
          [
           57.16
          ],
          [
           42.84
          ]
         ],
         "hovertemplate": "<b>%{x}</b><br>Churners: %{y:,}<br>Share of total churners: %{customdata[0]}%",
         "marker": {
          "color": [
           "#4C78A8",
           "#F58518"
          ]
         },
         "text": [
          "930",
          "697"
         ],
         "type": "bar",
         "x": [
          "F",
          "M"
         ],
         "xaxis": "x",
         "y": [
          930,
          697
         ],
         "yaxis": "y"
        },
        {
         "hovertemplate": "<b>%{x}</b><br>Churn Rate: %{y:.2f}%",
         "marker": {
          "color": [
           "#54A24B",
           "#E45756"
          ]
         },
         "text": [
          "17.36%",
          "14.62%"
         ],
         "type": "bar",
         "x": [
          "F",
          "M"
         ],
         "xaxis": "x2",
         "y": [
          17.36,
          14.62
         ],
         "yaxis": "y2"
        }
       ],
       "layout": {
        "annotations": [
         {
          "font": {
           "size": 16
          },
          "showarrow": false,
          "text": "Churners by Gender (count & share)",
          "x": 0.225,
          "xanchor": "center",
          "xref": "paper",
          "y": 1,
          "yanchor": "bottom",
          "yref": "paper"
         },
         {
          "font": {
           "size": 16
          },
          "showarrow": false,
          "text": "Churn Rate by Gender (within-group %)",
          "x": 0.775,
          "xanchor": "center",
          "xref": "paper",
          "y": 1,
          "yanchor": "bottom",
          "yref": "paper"
         },
         {
          "font": {
           "color": "red"
          },
          "showarrow": false,
          "text": "Overall churn: 16.07%",
          "x": 0.46,
          "xanchor": "right",
          "xref": "x2 domain",
          "y": 16.065962279055988,
          "yref": "y2",
          "yshift": -12
         }
        ],
        "height": 450,
        "shapes": [
         {
          "line": {
           "color": "red",
           "dash": "dash"
          },
          "type": "line",
          "x0": 0,
          "x1": 1,
          "xref": "x2 domain",
          "y0": 16.065962279055988,
          "y1": 16.065962279055988,
          "yref": "y2"
         }
        ],
        "showlegend": false,
        "template": {
         "data": {
          "bar": [
           {
            "error_x": {
             "color": "#2a3f5f"
            },
            "error_y": {
             "color": "#2a3f5f"
            },
            "marker": {
             "line": {
              "color": "white",
              "width": 0.5
             },
             "pattern": {
              "fillmode": "overlay",
              "size": 10,
              "solidity": 0.2
             }
            },
            "type": "bar"
           }
          ],
          "barpolar": [
           {
            "marker": {
             "line": {
              "color": "white",
              "width": 0.5
             },
             "pattern": {
              "fillmode": "overlay",
              "size": 10,
              "solidity": 0.2
             }
            },
            "type": "barpolar"
           }
          ],
          "carpet": [
           {
            "aaxis": {
             "endlinecolor": "#2a3f5f",
             "gridcolor": "#C8D4E3",
             "linecolor": "#C8D4E3",
             "minorgridcolor": "#C8D4E3",
             "startlinecolor": "#2a3f5f"
            },
            "baxis": {
             "endlinecolor": "#2a3f5f",
             "gridcolor": "#C8D4E3",
             "linecolor": "#C8D4E3",
             "minorgridcolor": "#C8D4E3",
             "startlinecolor": "#2a3f5f"
            },
            "type": "carpet"
           }
          ],
          "choropleth": [
           {
            "colorbar": {
             "outlinewidth": 0,
             "ticks": ""
            },
            "type": "choropleth"
           }
          ],
          "contour": [
           {
            "colorbar": {
             "outlinewidth": 0,
             "ticks": ""
            },
            "colorscale": [
             [
              0,
              "#0d0887"
             ],
             [
              0.1111111111111111,
              "#46039f"
             ],
             [
              0.2222222222222222,
              "#7201a8"
             ],
             [
              0.3333333333333333,
              "#9c179e"
             ],
             [
              0.4444444444444444,
              "#bd3786"
             ],
             [
              0.5555555555555556,
              "#d8576b"
             ],
             [
              0.6666666666666666,
              "#ed7953"
             ],
             [
              0.7777777777777778,
              "#fb9f3a"
             ],
             [
              0.8888888888888888,
              "#fdca26"
             ],
             [
              1,
              "#f0f921"
             ]
            ],
            "type": "contour"
           }
          ],
          "contourcarpet": [
           {
            "colorbar": {
             "outlinewidth": 0,
             "ticks": ""
            },
            "type": "contourcarpet"
           }
          ],
          "heatmap": [
           {
            "colorbar": {
             "outlinewidth": 0,
             "ticks": ""
            },
            "colorscale": [
             [
              0,
              "#0d0887"
             ],
             [
              0.1111111111111111,
              "#46039f"
             ],
             [
              0.2222222222222222,
              "#7201a8"
             ],
             [
              0.3333333333333333,
              "#9c179e"
             ],
             [
              0.4444444444444444,
              "#bd3786"
             ],
             [
              0.5555555555555556,
              "#d8576b"
             ],
             [
              0.6666666666666666,
              "#ed7953"
             ],
             [
              0.7777777777777778,
              "#fb9f3a"
             ],
             [
              0.8888888888888888,
              "#fdca26"
             ],
             [
              1,
              "#f0f921"
             ]
            ],
            "type": "heatmap"
           }
          ],
          "heatmapgl": [
           {
            "colorbar": {
             "outlinewidth": 0,
             "ticks": ""
            },
            "colorscale": [
             [
              0,
              "#0d0887"
             ],
             [
              0.1111111111111111,
              "#46039f"
             ],
             [
              0.2222222222222222,
              "#7201a8"
             ],
             [
              0.3333333333333333,
              "#9c179e"
             ],
             [
              0.4444444444444444,
              "#bd3786"
             ],
             [
              0.5555555555555556,
              "#d8576b"
             ],
             [
              0.6666666666666666,
              "#ed7953"
             ],
             [
              0.7777777777777778,
              "#fb9f3a"
             ],
             [
              0.8888888888888888,
              "#fdca26"
             ],
             [
              1,
              "#f0f921"
             ]
            ],
            "type": "heatmapgl"
           }
          ],
          "histogram": [
           {
            "marker": {
             "pattern": {
              "fillmode": "overlay",
              "size": 10,
              "solidity": 0.2
             }
            },
            "type": "histogram"
           }
          ],
          "histogram2d": [
           {
            "colorbar": {
             "outlinewidth": 0,
             "ticks": ""
            },
            "colorscale": [
             [
              0,
              "#0d0887"
             ],
             [
              0.1111111111111111,
              "#46039f"
             ],
             [
              0.2222222222222222,
              "#7201a8"
             ],
             [
              0.3333333333333333,
              "#9c179e"
             ],
             [
              0.4444444444444444,
              "#bd3786"
             ],
             [
              0.5555555555555556,
              "#d8576b"
             ],
             [
              0.6666666666666666,
              "#ed7953"
             ],
             [
              0.7777777777777778,
              "#fb9f3a"
             ],
             [
              0.8888888888888888,
              "#fdca26"
             ],
             [
              1,
              "#f0f921"
             ]
            ],
            "type": "histogram2d"
           }
          ],
          "histogram2dcontour": [
           {
            "colorbar": {
             "outlinewidth": 0,
             "ticks": ""
            },
            "colorscale": [
             [
              0,
              "#0d0887"
             ],
             [
              0.1111111111111111,
              "#46039f"
             ],
             [
              0.2222222222222222,
              "#7201a8"
             ],
             [
              0.3333333333333333,
              "#9c179e"
             ],
             [
              0.4444444444444444,
              "#bd3786"
             ],
             [
              0.5555555555555556,
              "#d8576b"
             ],
             [
              0.6666666666666666,
              "#ed7953"
             ],
             [
              0.7777777777777778,
              "#fb9f3a"
             ],
             [
              0.8888888888888888,
              "#fdca26"
             ],
             [
              1,
              "#f0f921"
             ]
            ],
            "type": "histogram2dcontour"
           }
          ],
          "mesh3d": [
           {
            "colorbar": {
             "outlinewidth": 0,
             "ticks": ""
            },
            "type": "mesh3d"
           }
          ],
          "parcoords": [
           {
            "line": {
             "colorbar": {
              "outlinewidth": 0,
              "ticks": ""
             }
            },
            "type": "parcoords"
           }
          ],
          "pie": [
           {
            "automargin": true,
            "type": "pie"
           }
          ],
          "scatter": [
           {
            "marker": {
             "colorbar": {
              "outlinewidth": 0,
              "ticks": ""
             }
            },
            "type": "scatter"
           }
          ],
          "scatter3d": [
           {
            "line": {
             "colorbar": {
              "outlinewidth": 0,
              "ticks": ""
             }
            },
            "marker": {
             "colorbar": {
              "outlinewidth": 0,
              "ticks": ""
             }
            },
            "type": "scatter3d"
           }
          ],
          "scattercarpet": [
           {
            "marker": {
             "colorbar": {
              "outlinewidth": 0,
              "ticks": ""
             }
            },
            "type": "scattercarpet"
           }
          ],
          "scattergeo": [
           {
            "marker": {
             "colorbar": {
              "outlinewidth": 0,
              "ticks": ""
             }
            },
            "type": "scattergeo"
           }
          ],
          "scattergl": [
           {
            "marker": {
             "colorbar": {
              "outlinewidth": 0,
              "ticks": ""
             }
            },
            "type": "scattergl"
           }
          ],
          "scattermapbox": [
           {
            "marker": {
             "colorbar": {
              "outlinewidth": 0,
              "ticks": ""
             }
            },
            "type": "scattermapbox"
           }
          ],
          "scatterpolar": [
           {
            "marker": {
             "colorbar": {
              "outlinewidth": 0,
              "ticks": ""
             }
            },
            "type": "scatterpolar"
           }
          ],
          "scatterpolargl": [
           {
            "marker": {
             "colorbar": {
              "outlinewidth": 0,
              "ticks": ""
             }
            },
            "type": "scatterpolargl"
           }
          ],
          "scatterternary": [
           {
            "marker": {
             "colorbar": {
              "outlinewidth": 0,
              "ticks": ""
             }
            },
            "type": "scatterternary"
           }
          ],
          "surface": [
           {
            "colorbar": {
             "outlinewidth": 0,
             "ticks": ""
            },
            "colorscale": [
             [
              0,
              "#0d0887"
             ],
             [
              0.1111111111111111,
              "#46039f"
             ],
             [
              0.2222222222222222,
              "#7201a8"
             ],
             [
              0.3333333333333333,
              "#9c179e"
             ],
             [
              0.4444444444444444,
              "#bd3786"
             ],
             [
              0.5555555555555556,
              "#d8576b"
             ],
             [
              0.6666666666666666,
              "#ed7953"
             ],
             [
              0.7777777777777778,
              "#fb9f3a"
             ],
             [
              0.8888888888888888,
              "#fdca26"
             ],
             [
              1,
              "#f0f921"
             ]
            ],
            "type": "surface"
           }
          ],
          "table": [
           {
            "cells": {
             "fill": {
              "color": "#EBF0F8"
             },
             "line": {
              "color": "white"
             }
            },
            "header": {
             "fill": {
              "color": "#C8D4E3"
             },
             "line": {
              "color": "white"
             }
            },
            "type": "table"
           }
          ]
         },
         "layout": {
          "annotationdefaults": {
           "arrowcolor": "#2a3f5f",
           "arrowhead": 0,
           "arrowwidth": 1
          },
          "autotypenumbers": "strict",
          "coloraxis": {
           "colorbar": {
            "outlinewidth": 0,
            "ticks": ""
           }
          },
          "colorscale": {
           "diverging": [
            [
             0,
             "#8e0152"
            ],
            [
             0.1,
             "#c51b7d"
            ],
            [
             0.2,
             "#de77ae"
            ],
            [
             0.3,
             "#f1b6da"
            ],
            [
             0.4,
             "#fde0ef"
            ],
            [
             0.5,
             "#f7f7f7"
            ],
            [
             0.6,
             "#e6f5d0"
            ],
            [
             0.7,
             "#b8e186"
            ],
            [
             0.8,
             "#7fbc41"
            ],
            [
             0.9,
             "#4d9221"
            ],
            [
             1,
             "#276419"
            ]
           ],
           "sequential": [
            [
             0,
             "#0d0887"
            ],
            [
             0.1111111111111111,
             "#46039f"
            ],
            [
             0.2222222222222222,
             "#7201a8"
            ],
            [
             0.3333333333333333,
             "#9c179e"
            ],
            [
             0.4444444444444444,
             "#bd3786"
            ],
            [
             0.5555555555555556,
             "#d8576b"
            ],
            [
             0.6666666666666666,
             "#ed7953"
            ],
            [
             0.7777777777777778,
             "#fb9f3a"
            ],
            [
             0.8888888888888888,
             "#fdca26"
            ],
            [
             1,
             "#f0f921"
            ]
           ],
           "sequentialminus": [
            [
             0,
             "#0d0887"
            ],
            [
             0.1111111111111111,
             "#46039f"
            ],
            [
             0.2222222222222222,
             "#7201a8"
            ],
            [
             0.3333333333333333,
             "#9c179e"
            ],
            [
             0.4444444444444444,
             "#bd3786"
            ],
            [
             0.5555555555555556,
             "#d8576b"
            ],
            [
             0.6666666666666666,
             "#ed7953"
            ],
            [
             0.7777777777777778,
             "#fb9f3a"
            ],
            [
             0.8888888888888888,
             "#fdca26"
            ],
            [
             1,
             "#f0f921"
            ]
           ]
          },
          "colorway": [
           "#636efa",
           "#EF553B",
           "#00cc96",
           "#ab63fa",
           "#FFA15A",
           "#19d3f3",
           "#FF6692",
           "#B6E880",
           "#FF97FF",
           "#FECB52"
          ],
          "font": {
           "color": "#2a3f5f"
          },
          "geo": {
           "bgcolor": "white",
           "lakecolor": "white",
           "landcolor": "white",
           "showlakes": true,
           "showland": true,
           "subunitcolor": "#C8D4E3"
          },
          "hoverlabel": {
           "align": "left"
          },
          "hovermode": "closest",
          "mapbox": {
           "style": "light"
          },
          "paper_bgcolor": "white",
          "plot_bgcolor": "white",
          "polar": {
           "angularaxis": {
            "gridcolor": "#EBF0F8",
            "linecolor": "#EBF0F8",
            "ticks": ""
           },
           "bgcolor": "white",
           "radialaxis": {
            "gridcolor": "#EBF0F8",
            "linecolor": "#EBF0F8",
            "ticks": ""
           }
          },
          "scene": {
           "xaxis": {
            "backgroundcolor": "white",
            "gridcolor": "#DFE8F3",
            "gridwidth": 2,
            "linecolor": "#EBF0F8",
            "showbackground": true,
            "ticks": "",
            "zerolinecolor": "#EBF0F8"
           },
           "yaxis": {
            "backgroundcolor": "white",
            "gridcolor": "#DFE8F3",
            "gridwidth": 2,
            "linecolor": "#EBF0F8",
            "showbackground": true,
            "ticks": "",
            "zerolinecolor": "#EBF0F8"
           },
           "zaxis": {
            "backgroundcolor": "white",
            "gridcolor": "#DFE8F3",
            "gridwidth": 2,
            "linecolor": "#EBF0F8",
            "showbackground": true,
            "ticks": "",
            "zerolinecolor": "#EBF0F8"
           }
          },
          "shapedefaults": {
           "line": {
            "color": "#2a3f5f"
           }
          },
          "ternary": {
           "aaxis": {
            "gridcolor": "#DFE8F3",
            "linecolor": "#A2B1C6",
            "ticks": ""
           },
           "baxis": {
            "gridcolor": "#DFE8F3",
            "linecolor": "#A2B1C6",
            "ticks": ""
           },
           "bgcolor": "white",
           "caxis": {
            "gridcolor": "#DFE8F3",
            "linecolor": "#A2B1C6",
            "ticks": ""
           }
          },
          "title": {
           "x": 0.05
          },
          "xaxis": {
           "automargin": true,
           "gridcolor": "#EBF0F8",
           "linecolor": "#EBF0F8",
           "ticks": "",
           "title": {
            "standoff": 15
           },
           "zerolinecolor": "#EBF0F8",
           "zerolinewidth": 2
          },
          "yaxis": {
           "automargin": true,
           "gridcolor": "#EBF0F8",
           "linecolor": "#EBF0F8",
           "ticks": "",
           "title": {
            "standoff": 15
           },
           "zerolinecolor": "#EBF0F8",
           "zerolinewidth": 2
          }
         }
        },
        "title": {
         "text": "Gender Churn Overview — Counts & Within-Group Rates"
        },
        "width": 850,
        "xaxis": {
         "anchor": "y",
         "domain": [
          0,
          0.45
         ]
        },
        "xaxis2": {
         "anchor": "y2",
         "domain": [
          0.55,
          1
         ]
        },
        "yaxis": {
         "anchor": "x",
         "domain": [
          0,
          1
         ],
         "title": {
          "text": "Churners"
         }
        },
        "yaxis2": {
         "anchor": "x2",
         "domain": [
          0,
          1
         ],
         "title": {
          "text": "Churn Rate (%)"
         }
        }
       }
      }
     },
     "metadata": {},
     "output_type": "display_data"
    }
   ],
   "source": [
    "\n",
    "# Plotly interactive figure (put this in the next new cell)\n",
    "from plotly.subplots import make_subplots\n",
    "import plotly.graph_objects as go\n",
    "\n",
    "fig = make_subplots(rows=1, cols=2,\n",
    "                    subplot_titles=(\"Churners by Gender (count & share)\", \"Churn Rate by Gender (within-group %)\"))\n",
    "\n",
    "# left: churners count with secondary text showing pct_of_total_churners\n",
    "fig.add_trace(\n",
    "    go.Bar(\n",
    "        x=pivot_gender.index,\n",
    "        y=pivot_gender['churners'],\n",
    "        text=pivot_gender['churners'].map(\"{:,}\".format),\n",
    "        hovertemplate=\"<b>%{x}</b><br>Churners: %{y:,}<br>Share of total churners: %{customdata[0]}%\",\n",
    "        customdata=pivot_gender[['pct_of_total_churners']].values,\n",
    "        marker_color=['#4C78A8', '#F58518']\n",
    "    ),\n",
    "    row=1, col=1\n",
    ")\n",
    "\n",
    "# right: churn rate\n",
    "fig.add_trace(\n",
    "    go.Bar(\n",
    "        x=pivot_gender.index,\n",
    "        y=pivot_gender['churn_rate'],\n",
    "        text=pivot_gender['churn_rate'].map(lambda v: f\"{v:.2f}%\"),\n",
    "        hovertemplate=\"<b>%{x}</b><br>Churn Rate: %{y:.2f}%\",\n",
    "        marker_color=['#54A24B', '#E45756']\n",
    "    ),\n",
    "    row=1, col=2\n",
    ")\n",
    "\n",
    "# add overall baseline churn as a horizontal line in the second subplot\n",
    "fig.add_hline(y=baseline, line=dict(color=\"red\", dash=\"dash\"), row=1, col=2)\n",
    "fig.add_annotation(\n",
    "    x=0.46, y=baseline,\n",
    "    xref='x2 domain', yref='y2',\n",
    "    text=f\"Overall churn: {baseline:.2f}%\",\n",
    "    showarrow=False,\n",
    "    font=dict(color=\"red\"),\n",
    "    xanchor='right',\n",
    "    yshift=-12  # move annotation slightly down (pixels)\n",
    ")\n",
    "\n",
    "fig.update_layout(\n",
    "    template=\"plotly_white\",\n",
    "    title_text=\"Gender Churn Overview — Counts & Within-Group Rates\",\n",
    "    width=850,\n",
    "    height=450,\n",
    "    showlegend=False\n",
    ")\n",
    "fig.update_yaxes(title_text=\"Churners\", row=1, col=1)\n",
    "fig.update_yaxes(title_text=\"Churn Rate (%)\", row=1, col=2)\n",
    "\n",
    "fig.show()"
   ]
  },
  {
   "cell_type": "code",
   "execution_count": null,
   "id": "9417d8d2",
   "metadata": {},
   "outputs": [
    {
     "name": "stdout",
     "output_type": "stream",
     "text": [
      "Churner counts by age group:\n"
     ]
    },
    {
     "data": {
      "application/vnd.microsoft.datawrangler.viewer.v0+json": {
       "columns": [
        {
         "name": "Age_Group",
         "rawType": "category",
         "type": "unknown"
        },
        {
         "name": "Attrition_Flag",
         "rawType": "float64",
         "type": "float"
        }
       ],
       "ref": "a5ca3df2-9be6-4488-b610-610ea52a85e0",
       "rows": [
        [
         "26-35",
         "0.132"
        ],
        [
         "36-45",
         "0.166"
        ],
        [
         "46-55",
         "0.166"
        ],
        [
         "55+",
         "0.157"
        ]
       ],
       "shape": {
        "columns": 1,
        "rows": 4
       }
      },
      "text/plain": [
       "Age_Group\n",
       "26-35    0.132\n",
       "36-45    0.166\n",
       "46-55    0.166\n",
       "55+      0.157\n",
       "Name: Attrition_Flag, dtype: float64"
      ]
     },
     "execution_count": 16,
     "metadata": {},
     "output_type": "execute_result"
    }
   ],
   "source": [
    "# Count churners by age group\n",
    "churners_by_age = df.groupby('Age_Group')['Attrition_Flag'].apply(\n",
    "    lambda x: (x=='Attrited Customer').mean()\n",
    ").round(3)\n",
    "print(\"Churner counts by age group:\")\n",
    "churners_by_age"
   ]
  },
  {
   "cell_type": "code",
   "execution_count": null,
   "id": "99555cd7",
   "metadata": {},
   "outputs": [],
   "source": []
  },
  {
   "cell_type": "markdown",
   "id": "db9487a8",
   "metadata": {},
   "source": [
    "- 17%  of (36-45 & 46-55) age groups churn"
   ]
  },
  {
   "cell_type": "code",
   "execution_count": 23,
   "id": "8a58a372",
   "metadata": {},
   "outputs": [
    {
     "name": "stdout",
     "output_type": "stream",
     "text": [
      "\n",
      "Sample Sizes by Age Group:\n",
      "--------------------------------------------------\n",
      "26-35: n=1,062 (10.5%)\n",
      "36-45: n=4,011 (39.6%)\n",
      "46-55: n=3,907 (38.6%)\n",
      "55+: n=1,069 (10.6%)\n",
      "\n",
      "Statistical Test Results:\n",
      "--------------------------------------------------\n",
      "Chi-square statistic: 8.16\n",
      "p-value: 0.0429\n"
     ]
    },
    {
     "data": {
      "image/png": "[encoded data removed]",
      "text/plain": [
       "<Figure size 1200x600 with 1 Axes>"
      ]
     },
     "metadata": {},
     "output_type": "display_data"
    }
   ],
   "source": [
    "\n",
    "\n",
    "\n",
    "\n",
    "# Create figure\n",
    "fig, ax = plt.subplots(figsize=(12, 6))\n",
    "\n",
    "# Plot line chart\n",
    "ax.plot(churners_by_age.index, churners_by_age.values*100, \n",
    "    marker='o', linewidth=2, markersize=8)\n",
    "\n",
    "# Add value labels\n",
    "for x, y in zip(range(len(churners_by_age)), churners_by_age.values):\n",
    "    ax.text(x, y + 10, f'{y}', ha='center')\n",
    "\n",
    "# Customize plot\n",
    "ax.set_title('Churn Rate by Age Group', pad=20)\n",
    "ax.set_ylabel('Churn Rate (%)')\n",
    "ax.set_xlabel('Age Group')\n",
    "ax.grid(True, linestyle='--', alpha=0.7)\n",
    "\n",
    "# Add sample sizes\n",
    "sizes = df['Age_Group'].value_counts().sort_index()\n",
    "\n",
    "print(\"\\nSample Sizes by Age Group:\")\n",
    "print(\"-\" * 50)\n",
    "for group, size in sizes.items():\n",
    "    print(f\"{group}: n={size:,} ({size/len(df)*100:.1f}%)\")\n",
    "\n",
    "\n",
    "# Print statistical test results\n",
    "\n",
    "\n",
    "contingency = pd.crosstab(df['Age_Group'], df['Attrition_Flag'])\n",
    "chi2, p_value, dof, expected = chi2_contingency(contingency)\n",
    "\n",
    "print(\"\\nStatistical Test Results:\")\n",
    "print(\"-\" * 50)\n",
    "print(f\"Chi-square statistic: {chi2:.2f}\")\n",
    "print(f\"p-value: {p_value:.4f}\")\n",
    "\n",
    "# Identify high-risk age groups (>1.5x baseline churn)\n",
    "baseline_churn = (df['Attrition_Flag']=='Attrited Customer').mean()\n",
    "high_risk = churners_by_age[churners_by_age > (baseline_churn * 1.5)]\n",
    "\n",
    "if len(high_risk) > 0:\n",
    "    print(\"\\nHigh Risk Age Groups (>1.5x baseline):\")\n",
    "    print(\"-\" * 50)\n",
    "    for age, rate in high_risk.items():\n",
    "        print(f\"{age}: {rate*100:.1f}% churn rate ({rate/baseline_churn:.1f}x baseline)\")"
   ]
  }
 ],
 "metadata": {
  "kernelspec": {
   "display_name": "base",
   "language": "python",
   "name": "python3"
  },
  "language_info": {
   "codemirror_mode": {
    "name": "ipython",
    "version": 3
   },
   "file_extension": ".py",
   "mimetype": "text/x-python",
   "name": "python",
   "nbconvert_exporter": "python",
   "pygments_lexer": "ipython3",
   "version": "3.9.12"
  }
 },
 "nbformat": 4,
 "nbformat_minor": 5
}
